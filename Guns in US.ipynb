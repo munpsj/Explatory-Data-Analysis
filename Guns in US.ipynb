{
 "cells": [
  {
   "cell_type": "markdown",
   "metadata": {},
   "source": [
    "# EDA- Firearm Background Checks & Firearm Mortality Rate in 2017"
   ]
  },
  {
   "cell_type": "markdown",
   "metadata": {},
   "source": [
    "The objective of this EDA are:  \n",
    "    1) Determine which states give out the most firearm permit  \n",
    "    2) Investigate the number of permits licsened correlates with the firarm death mortality rate.  \n",
    "    3) Find high school graduation rate it associated with permits and death mortality rate"
   ]
  },
  {
   "cell_type": "code",
   "execution_count": 48,
   "metadata": {},
   "outputs": [],
   "source": [
    "import pandas as pd\n",
    "import numpy as np\n",
    "import datetime as dt\n",
    "import matplotlib.pyplot as plt\n",
    "pd.set_option('display.max_rows', 200)\n",
    "# Suppress Deprecation and Incorrect Usage Warnings \n",
    "import warnings\n",
    "warnings.filterwarnings('ignore')"
   ]
  },
  {
   "cell_type": "code",
   "execution_count": 2,
   "metadata": {},
   "outputs": [],
   "source": [
    "# Read in three files\n",
    "guns = pd.read_csv(\"nics-firearm-background-checks.csv\")\n",
    "mortality = pd.read_csv(\"Firearm Mortality by State.csv\")\n",
    "highschool = pd.read_csv(\"graduationbystate.csv\")"
   ]
  },
  {
   "cell_type": "code",
   "execution_count": 3,
   "metadata": {},
   "outputs": [
    {
     "name": "stdout",
     "output_type": "stream",
     "text": [
      "<class 'pandas.core.frame.DataFrame'>\n",
      "RangeIndex: 13860 entries, 0 to 13859\n",
      "Data columns (total 27 columns):\n",
      "month                        13860 non-null object\n",
      "state                        13860 non-null object\n",
      "permit                       13836 non-null float64\n",
      "permit_recheck               2475 non-null float64\n",
      "handgun                      13840 non-null float64\n",
      "long_gun                     13841 non-null float64\n",
      "other                        6875 non-null float64\n",
      "multiple                     13860 non-null int64\n",
      "admin                        13837 non-null float64\n",
      "prepawn_handgun              11917 non-null float64\n",
      "prepawn_long_gun             11915 non-null float64\n",
      "prepawn_other                6490 non-null float64\n",
      "redemption_handgun           11920 non-null float64\n",
      "redemption_long_gun          11919 non-null float64\n",
      "redemption_other             6490 non-null float64\n",
      "returned_handgun             3575 non-null float64\n",
      "returned_long_gun            3520 non-null float64\n",
      "returned_other               3190 non-null float64\n",
      "rentals_handgun              2365 non-null float64\n",
      "rentals_long_gun             2200 non-null float64\n",
      "private_sale_handgun         4125 non-null float64\n",
      "private_sale_long_gun        4125 non-null float64\n",
      "private_sale_other           4125 non-null float64\n",
      "return_to_seller_handgun     3850 non-null float64\n",
      "return_to_seller_long_gun    4125 non-null float64\n",
      "return_to_seller_other       3630 non-null float64\n",
      "totals                       13860 non-null int64\n",
      "dtypes: float64(23), int64(2), object(2)\n",
      "memory usage: 2.9+ MB\n"
     ]
    }
   ],
   "source": [
    "# Check innformation for guns file\n",
    "guns.info()"
   ]
  },
  {
   "cell_type": "code",
   "execution_count": 39,
   "metadata": {
    "scrolled": true
   },
   "outputs": [
    {
     "name": "stdout",
     "output_type": "stream",
     "text": [
      "(13860, 29)\n",
      "-----------------------------------\n"
     ]
    },
    {
     "data": {
      "text/plain": [
       "month                 0\n",
       "state                 0\n",
       "permit               24\n",
       "permit_recheck    11385\n",
       "handgun              20\n",
       "dtype: int64"
      ]
     },
     "execution_count": 39,
     "metadata": {},
     "output_type": "execute_result"
    }
   ],
   "source": [
    "# Check the dimension of the data and the missing rows\n",
    "print(guns.shape)\n",
    "print('-----------------------------------')\n",
    "guns.isnull().sum().head()"
   ]
  },
  {
   "cell_type": "markdown",
   "metadata": {},
   "source": [
    "Gun file has 13860 rows and 29 columns. Permit_recheck is missing 11385 rows."
   ]
  },
  {
   "cell_type": "code",
   "execution_count": 5,
   "metadata": {},
   "outputs": [
    {
     "data": {
      "text/html": [
       "<div>\n",
       "<style scoped>\n",
       "    .dataframe tbody tr th:only-of-type {\n",
       "        vertical-align: middle;\n",
       "    }\n",
       "\n",
       "    .dataframe tbody tr th {\n",
       "        vertical-align: top;\n",
       "    }\n",
       "\n",
       "    .dataframe thead th {\n",
       "        text-align: right;\n",
       "    }\n",
       "</style>\n",
       "<table border=\"1\" class=\"dataframe\">\n",
       "  <thead>\n",
       "    <tr style=\"text-align: right;\">\n",
       "      <th></th>\n",
       "      <th>month</th>\n",
       "      <th>state</th>\n",
       "      <th>permit</th>\n",
       "      <th>permit_recheck</th>\n",
       "      <th>handgun</th>\n",
       "      <th>long_gun</th>\n",
       "      <th>other</th>\n",
       "      <th>multiple</th>\n",
       "      <th>admin</th>\n",
       "      <th>prepawn_handgun</th>\n",
       "      <th>...</th>\n",
       "      <th>returned_other</th>\n",
       "      <th>rentals_handgun</th>\n",
       "      <th>rentals_long_gun</th>\n",
       "      <th>private_sale_handgun</th>\n",
       "      <th>private_sale_long_gun</th>\n",
       "      <th>private_sale_other</th>\n",
       "      <th>return_to_seller_handgun</th>\n",
       "      <th>return_to_seller_long_gun</th>\n",
       "      <th>return_to_seller_other</th>\n",
       "      <th>totals</th>\n",
       "    </tr>\n",
       "  </thead>\n",
       "  <tbody>\n",
       "    <tr>\n",
       "      <td>0</td>\n",
       "      <td>2019-10</td>\n",
       "      <td>Alabama</td>\n",
       "      <td>25615.0</td>\n",
       "      <td>635.0</td>\n",
       "      <td>16759.0</td>\n",
       "      <td>13692.0</td>\n",
       "      <td>1078.0</td>\n",
       "      <td>938</td>\n",
       "      <td>0.0</td>\n",
       "      <td>31.0</td>\n",
       "      <td>...</td>\n",
       "      <td>0.0</td>\n",
       "      <td>0.0</td>\n",
       "      <td>0.0</td>\n",
       "      <td>34.0</td>\n",
       "      <td>24.0</td>\n",
       "      <td>6.0</td>\n",
       "      <td>0.0</td>\n",
       "      <td>1.0</td>\n",
       "      <td>0.0</td>\n",
       "      <td>63254</td>\n",
       "    </tr>\n",
       "    <tr>\n",
       "      <td>1</td>\n",
       "      <td>2019-10</td>\n",
       "      <td>Alaska</td>\n",
       "      <td>168.0</td>\n",
       "      <td>5.0</td>\n",
       "      <td>3304.0</td>\n",
       "      <td>3510.0</td>\n",
       "      <td>392.0</td>\n",
       "      <td>302</td>\n",
       "      <td>0.0</td>\n",
       "      <td>0.0</td>\n",
       "      <td>...</td>\n",
       "      <td>0.0</td>\n",
       "      <td>0.0</td>\n",
       "      <td>0.0</td>\n",
       "      <td>23.0</td>\n",
       "      <td>9.0</td>\n",
       "      <td>0.0</td>\n",
       "      <td>1.0</td>\n",
       "      <td>0.0</td>\n",
       "      <td>0.0</td>\n",
       "      <td>8281</td>\n",
       "    </tr>\n",
       "    <tr>\n",
       "      <td>2</td>\n",
       "      <td>2019-10</td>\n",
       "      <td>Arizona</td>\n",
       "      <td>5151.0</td>\n",
       "      <td>686.0</td>\n",
       "      <td>11543.0</td>\n",
       "      <td>7509.0</td>\n",
       "      <td>1138.0</td>\n",
       "      <td>798</td>\n",
       "      <td>0.0</td>\n",
       "      <td>12.0</td>\n",
       "      <td>...</td>\n",
       "      <td>0.0</td>\n",
       "      <td>0.0</td>\n",
       "      <td>0.0</td>\n",
       "      <td>21.0</td>\n",
       "      <td>13.0</td>\n",
       "      <td>3.0</td>\n",
       "      <td>0.0</td>\n",
       "      <td>0.0</td>\n",
       "      <td>0.0</td>\n",
       "      <td>28833</td>\n",
       "    </tr>\n",
       "    <tr>\n",
       "      <td>3</td>\n",
       "      <td>2019-10</td>\n",
       "      <td>Arkansas</td>\n",
       "      <td>3031.0</td>\n",
       "      <td>825.0</td>\n",
       "      <td>4809.0</td>\n",
       "      <td>7173.0</td>\n",
       "      <td>351.0</td>\n",
       "      <td>391</td>\n",
       "      <td>3.0</td>\n",
       "      <td>12.0</td>\n",
       "      <td>...</td>\n",
       "      <td>0.0</td>\n",
       "      <td>0.0</td>\n",
       "      <td>0.0</td>\n",
       "      <td>13.0</td>\n",
       "      <td>11.0</td>\n",
       "      <td>2.0</td>\n",
       "      <td>0.0</td>\n",
       "      <td>1.0</td>\n",
       "      <td>0.0</td>\n",
       "      <td>19303</td>\n",
       "    </tr>\n",
       "    <tr>\n",
       "      <td>4</td>\n",
       "      <td>2019-10</td>\n",
       "      <td>California</td>\n",
       "      <td>36057.0</td>\n",
       "      <td>0.0</td>\n",
       "      <td>32128.0</td>\n",
       "      <td>23005.0</td>\n",
       "      <td>4198.0</td>\n",
       "      <td>0</td>\n",
       "      <td>0.0</td>\n",
       "      <td>0.0</td>\n",
       "      <td>...</td>\n",
       "      <td>0.0</td>\n",
       "      <td>0.0</td>\n",
       "      <td>0.0</td>\n",
       "      <td>0.0</td>\n",
       "      <td>0.0</td>\n",
       "      <td>0.0</td>\n",
       "      <td>0.0</td>\n",
       "      <td>0.0</td>\n",
       "      <td>0.0</td>\n",
       "      <td>96252</td>\n",
       "    </tr>\n",
       "  </tbody>\n",
       "</table>\n",
       "<p>5 rows × 27 columns</p>\n",
       "</div>"
      ],
      "text/plain": [
       "     month       state   permit  permit_recheck  handgun  long_gun   other  \\\n",
       "0  2019-10     Alabama  25615.0           635.0  16759.0   13692.0  1078.0   \n",
       "1  2019-10      Alaska    168.0             5.0   3304.0    3510.0   392.0   \n",
       "2  2019-10     Arizona   5151.0           686.0  11543.0    7509.0  1138.0   \n",
       "3  2019-10    Arkansas   3031.0           825.0   4809.0    7173.0   351.0   \n",
       "4  2019-10  California  36057.0             0.0  32128.0   23005.0  4198.0   \n",
       "\n",
       "   multiple  admin  prepawn_handgun  ...  returned_other  rentals_handgun  \\\n",
       "0       938    0.0             31.0  ...             0.0              0.0   \n",
       "1       302    0.0              0.0  ...             0.0              0.0   \n",
       "2       798    0.0             12.0  ...             0.0              0.0   \n",
       "3       391    3.0             12.0  ...             0.0              0.0   \n",
       "4         0    0.0              0.0  ...             0.0              0.0   \n",
       "\n",
       "   rentals_long_gun  private_sale_handgun  private_sale_long_gun  \\\n",
       "0               0.0                  34.0                   24.0   \n",
       "1               0.0                  23.0                    9.0   \n",
       "2               0.0                  21.0                   13.0   \n",
       "3               0.0                  13.0                   11.0   \n",
       "4               0.0                   0.0                    0.0   \n",
       "\n",
       "   private_sale_other  return_to_seller_handgun  return_to_seller_long_gun  \\\n",
       "0                 6.0                       0.0                        1.0   \n",
       "1                 0.0                       1.0                        0.0   \n",
       "2                 3.0                       0.0                        0.0   \n",
       "3                 2.0                       0.0                        1.0   \n",
       "4                 0.0                       0.0                        0.0   \n",
       "\n",
       "   return_to_seller_other  totals  \n",
       "0                     0.0   63254  \n",
       "1                     0.0    8281  \n",
       "2                     0.0   28833  \n",
       "3                     0.0   19303  \n",
       "4                     0.0   96252  \n",
       "\n",
       "[5 rows x 27 columns]"
      ]
     },
     "execution_count": 5,
     "metadata": {},
     "output_type": "execute_result"
    }
   ],
   "source": [
    "# Let's look at the first 5 rows of Gun file\n",
    "guns.head()"
   ]
  },
  {
   "cell_type": "code",
   "execution_count": 6,
   "metadata": {},
   "outputs": [],
   "source": [
    "# Converting string to date format\n",
    "date = pd.to_datetime(guns.month)"
   ]
  },
  {
   "cell_type": "code",
   "execution_count": 7,
   "metadata": {},
   "outputs": [],
   "source": [
    "#extracting year\n",
    "guns['year'] = date.dt.year"
   ]
  },
  {
   "cell_type": "code",
   "execution_count": 8,
   "metadata": {},
   "outputs": [],
   "source": [
    "guns['months'] = date.dt.month"
   ]
  },
  {
   "cell_type": "code",
   "execution_count": 9,
   "metadata": {},
   "outputs": [
    {
     "data": {
      "text/html": [
       "<div>\n",
       "<style scoped>\n",
       "    .dataframe tbody tr th:only-of-type {\n",
       "        vertical-align: middle;\n",
       "    }\n",
       "\n",
       "    .dataframe tbody tr th {\n",
       "        vertical-align: top;\n",
       "    }\n",
       "\n",
       "    .dataframe thead th {\n",
       "        text-align: right;\n",
       "    }\n",
       "</style>\n",
       "<table border=\"1\" class=\"dataframe\">\n",
       "  <thead>\n",
       "    <tr style=\"text-align: right;\">\n",
       "      <th></th>\n",
       "      <th>month</th>\n",
       "      <th>state</th>\n",
       "      <th>permit</th>\n",
       "      <th>permit_recheck</th>\n",
       "      <th>handgun</th>\n",
       "      <th>long_gun</th>\n",
       "      <th>other</th>\n",
       "      <th>multiple</th>\n",
       "      <th>admin</th>\n",
       "      <th>prepawn_handgun</th>\n",
       "      <th>...</th>\n",
       "      <th>rentals_long_gun</th>\n",
       "      <th>private_sale_handgun</th>\n",
       "      <th>private_sale_long_gun</th>\n",
       "      <th>private_sale_other</th>\n",
       "      <th>return_to_seller_handgun</th>\n",
       "      <th>return_to_seller_long_gun</th>\n",
       "      <th>return_to_seller_other</th>\n",
       "      <th>totals</th>\n",
       "      <th>year</th>\n",
       "      <th>months</th>\n",
       "    </tr>\n",
       "  </thead>\n",
       "  <tbody>\n",
       "    <tr>\n",
       "      <td>0</td>\n",
       "      <td>2019-10</td>\n",
       "      <td>Alabama</td>\n",
       "      <td>25615.0</td>\n",
       "      <td>635.0</td>\n",
       "      <td>16759.0</td>\n",
       "      <td>13692.0</td>\n",
       "      <td>1078.0</td>\n",
       "      <td>938</td>\n",
       "      <td>0.0</td>\n",
       "      <td>31.0</td>\n",
       "      <td>...</td>\n",
       "      <td>0.0</td>\n",
       "      <td>34.0</td>\n",
       "      <td>24.0</td>\n",
       "      <td>6.0</td>\n",
       "      <td>0.0</td>\n",
       "      <td>1.0</td>\n",
       "      <td>0.0</td>\n",
       "      <td>63254</td>\n",
       "      <td>2019</td>\n",
       "      <td>10</td>\n",
       "    </tr>\n",
       "    <tr>\n",
       "      <td>1</td>\n",
       "      <td>2019-10</td>\n",
       "      <td>Alaska</td>\n",
       "      <td>168.0</td>\n",
       "      <td>5.0</td>\n",
       "      <td>3304.0</td>\n",
       "      <td>3510.0</td>\n",
       "      <td>392.0</td>\n",
       "      <td>302</td>\n",
       "      <td>0.0</td>\n",
       "      <td>0.0</td>\n",
       "      <td>...</td>\n",
       "      <td>0.0</td>\n",
       "      <td>23.0</td>\n",
       "      <td>9.0</td>\n",
       "      <td>0.0</td>\n",
       "      <td>1.0</td>\n",
       "      <td>0.0</td>\n",
       "      <td>0.0</td>\n",
       "      <td>8281</td>\n",
       "      <td>2019</td>\n",
       "      <td>10</td>\n",
       "    </tr>\n",
       "    <tr>\n",
       "      <td>2</td>\n",
       "      <td>2019-10</td>\n",
       "      <td>Arizona</td>\n",
       "      <td>5151.0</td>\n",
       "      <td>686.0</td>\n",
       "      <td>11543.0</td>\n",
       "      <td>7509.0</td>\n",
       "      <td>1138.0</td>\n",
       "      <td>798</td>\n",
       "      <td>0.0</td>\n",
       "      <td>12.0</td>\n",
       "      <td>...</td>\n",
       "      <td>0.0</td>\n",
       "      <td>21.0</td>\n",
       "      <td>13.0</td>\n",
       "      <td>3.0</td>\n",
       "      <td>0.0</td>\n",
       "      <td>0.0</td>\n",
       "      <td>0.0</td>\n",
       "      <td>28833</td>\n",
       "      <td>2019</td>\n",
       "      <td>10</td>\n",
       "    </tr>\n",
       "    <tr>\n",
       "      <td>3</td>\n",
       "      <td>2019-10</td>\n",
       "      <td>Arkansas</td>\n",
       "      <td>3031.0</td>\n",
       "      <td>825.0</td>\n",
       "      <td>4809.0</td>\n",
       "      <td>7173.0</td>\n",
       "      <td>351.0</td>\n",
       "      <td>391</td>\n",
       "      <td>3.0</td>\n",
       "      <td>12.0</td>\n",
       "      <td>...</td>\n",
       "      <td>0.0</td>\n",
       "      <td>13.0</td>\n",
       "      <td>11.0</td>\n",
       "      <td>2.0</td>\n",
       "      <td>0.0</td>\n",
       "      <td>1.0</td>\n",
       "      <td>0.0</td>\n",
       "      <td>19303</td>\n",
       "      <td>2019</td>\n",
       "      <td>10</td>\n",
       "    </tr>\n",
       "    <tr>\n",
       "      <td>4</td>\n",
       "      <td>2019-10</td>\n",
       "      <td>California</td>\n",
       "      <td>36057.0</td>\n",
       "      <td>0.0</td>\n",
       "      <td>32128.0</td>\n",
       "      <td>23005.0</td>\n",
       "      <td>4198.0</td>\n",
       "      <td>0</td>\n",
       "      <td>0.0</td>\n",
       "      <td>0.0</td>\n",
       "      <td>...</td>\n",
       "      <td>0.0</td>\n",
       "      <td>0.0</td>\n",
       "      <td>0.0</td>\n",
       "      <td>0.0</td>\n",
       "      <td>0.0</td>\n",
       "      <td>0.0</td>\n",
       "      <td>0.0</td>\n",
       "      <td>96252</td>\n",
       "      <td>2019</td>\n",
       "      <td>10</td>\n",
       "    </tr>\n",
       "  </tbody>\n",
       "</table>\n",
       "<p>5 rows × 29 columns</p>\n",
       "</div>"
      ],
      "text/plain": [
       "     month       state   permit  permit_recheck  handgun  long_gun   other  \\\n",
       "0  2019-10     Alabama  25615.0           635.0  16759.0   13692.0  1078.0   \n",
       "1  2019-10      Alaska    168.0             5.0   3304.0    3510.0   392.0   \n",
       "2  2019-10     Arizona   5151.0           686.0  11543.0    7509.0  1138.0   \n",
       "3  2019-10    Arkansas   3031.0           825.0   4809.0    7173.0   351.0   \n",
       "4  2019-10  California  36057.0             0.0  32128.0   23005.0  4198.0   \n",
       "\n",
       "   multiple  admin  prepawn_handgun  ...  rentals_long_gun  \\\n",
       "0       938    0.0             31.0  ...               0.0   \n",
       "1       302    0.0              0.0  ...               0.0   \n",
       "2       798    0.0             12.0  ...               0.0   \n",
       "3       391    3.0             12.0  ...               0.0   \n",
       "4         0    0.0              0.0  ...               0.0   \n",
       "\n",
       "   private_sale_handgun  private_sale_long_gun  private_sale_other  \\\n",
       "0                  34.0                   24.0                 6.0   \n",
       "1                  23.0                    9.0                 0.0   \n",
       "2                  21.0                   13.0                 3.0   \n",
       "3                  13.0                   11.0                 2.0   \n",
       "4                   0.0                    0.0                 0.0   \n",
       "\n",
       "   return_to_seller_handgun  return_to_seller_long_gun  \\\n",
       "0                       0.0                        1.0   \n",
       "1                       1.0                        0.0   \n",
       "2                       0.0                        0.0   \n",
       "3                       0.0                        1.0   \n",
       "4                       0.0                        0.0   \n",
       "\n",
       "   return_to_seller_other  totals  year  months  \n",
       "0                     0.0   63254  2019      10  \n",
       "1                     0.0    8281  2019      10  \n",
       "2                     0.0   28833  2019      10  \n",
       "3                     0.0   19303  2019      10  \n",
       "4                     0.0   96252  2019      10  \n",
       "\n",
       "[5 rows x 29 columns]"
      ]
     },
     "execution_count": 9,
     "metadata": {},
     "output_type": "execute_result"
    }
   ],
   "source": [
    "guns.head()"
   ]
  },
  {
   "cell_type": "code",
   "execution_count": 10,
   "metadata": {},
   "outputs": [],
   "source": [
    "guns2017 = guns[guns['year'] == 2017]"
   ]
  },
  {
   "cell_type": "code",
   "execution_count": 49,
   "metadata": {},
   "outputs": [],
   "source": [
    "# To merge this dataset with mortality dataset, do the necessary changes\n",
    "guns2017['state'] = guns2017['state'].str.lower().str.replace(' ','')"
   ]
  },
  {
   "cell_type": "code",
   "execution_count": 15,
   "metadata": {},
   "outputs": [],
   "source": [
    "#Top 5 gun permit states\n",
    "permit2017bystate = guns2017.pivot_table(values='totals', index= 'state',aggfunc=np.sum).reset_index()\n",
    "permit2017bystate.sort_values(\"totals\", ascending=False).head()"
   ]
  },
  {
   "cell_type": "code",
   "execution_count": 50,
   "metadata": {},
   "outputs": [
    {
     "data": {
      "text/plain": [
       "<matplotlib.axes._subplots.AxesSubplot at 0x21400f43788>"
      ]
     },
     "execution_count": 50,
     "metadata": {},
     "output_type": "execute_result"
    },
    {
     "data": {
      "image/png": "[encoded data removed]",
      "text/plain": [
       "<Figure size 1440x720 with 1 Axes>"
      ]
     },
     "metadata": {
      "needs_background": "light"
     },
     "output_type": "display_data"
    }
   ],
   "source": [
    "# Visualization of permits by states\n",
    "plt.rcParams['figure.figsize'] = [20,10]\n",
    "guns2017.groupby('state').sum().reset_index().sort_values(by='totals',ascending=False).plot.bar(x='state',y='totals')"
   ]
  },
  {
   "cell_type": "markdown",
   "metadata": {},
   "source": [
    "Kentucky state gives out nearly half of the total firearm permits given in the united states.  \n",
    "Illinois, California, and Texas are in the similar range."
   ]
  },
  {
   "cell_type": "code",
   "execution_count": 13,
   "metadata": {},
   "outputs": [
    {
     "data": {
      "text/plain": [
       "<matplotlib.axes._subplots.AxesSubplot at 0x2140090fa88>"
      ]
     },
     "execution_count": 13,
     "metadata": {},
     "output_type": "execute_result"
    },
    {
     "data": {
      "image/png": "[encoded data removed]",
      "text/plain": [
       "<Figure size 1440x720 with 1 Axes>"
      ]
     },
     "metadata": {
      "needs_background": "light"
     },
     "output_type": "display_data"
    }
   ],
   "source": [
    "# Kentucky\n",
    "guns2017.groupby('state').get_group(\"kentucky\").sort_values(by='months',ascending=True).plot.bar(x='months',y='totals')"
   ]
  },
  {
   "cell_type": "markdown",
   "metadata": {},
   "source": [
    "Kentucky is pretty consistent giving out firearm permits throught the year of 2017 except in January and February. Even still the lowest permit given out in February is still over 300,000."
   ]
  },
  {
   "cell_type": "code",
   "execution_count": 14,
   "metadata": {},
   "outputs": [
    {
     "data": {
      "text/plain": [
       "<matplotlib.axes._subplots.AxesSubplot at 0x21400510f48>"
      ]
     },
     "execution_count": 14,
     "metadata": {},
     "output_type": "execute_result"
    },
    {
     "data": {
      "image/png": "[encoded data removed]",
      "text/plain": [
       "<Figure size 1440x720 with 1 Axes>"
      ]
     },
     "metadata": {
      "needs_background": "light"
     },
     "output_type": "display_data"
    }
   ],
   "source": [
    "# Illinois\n",
    "guns2017.groupby('state').get_group(\"illinois\").sort_values(by='months',ascending=True).plot.bar(x='months',y='totals')"
   ]
  },
  {
   "cell_type": "markdown",
   "metadata": {},
   "source": [
    "Illinois gave out the permits the most in March and December. However, it's not even near the half of permits given out by Kentucky states in both March and December."
   ]
  },
  {
   "cell_type": "markdown",
   "metadata": {},
   "source": [
    "# Mortality"
   ]
  },
  {
   "cell_type": "code",
   "execution_count": 17,
   "metadata": {},
   "outputs": [
    {
     "name": "stdout",
     "output_type": "stream",
     "text": [
      "<class 'pandas.core.frame.DataFrame'>\n",
      "RangeIndex: 251 entries, 0 to 250\n",
      "Data columns (total 5 columns):\n",
      "YEAR      250 non-null float64\n",
      "STATE     250 non-null object\n",
      "RATE      250 non-null float64\n",
      "DEATHS    250 non-null object\n",
      "URL       250 non-null object\n",
      "dtypes: float64(2), object(3)\n",
      "memory usage: 9.9+ KB\n"
     ]
    }
   ],
   "source": [
    "mortality.info()"
   ]
  },
  {
   "cell_type": "code",
   "execution_count": 95,
   "metadata": {},
   "outputs": [
    {
     "data": {
      "text/plain": [
       "alabama          5\n",
       "iowa             5\n",
       "newjersey        5\n",
       "northcarolina    5\n",
       "arkansas         5\n",
       "florida          5\n",
       "michigan         5\n",
       "maine            5\n",
       "delaware         5\n",
       "indiana          5\n",
       "newyork          5\n",
       "vermont          5\n",
       "washington       5\n",
       "missouri         5\n",
       "nebraska         5\n",
       "rhodeisland      5\n",
       "texas            5\n",
       "minnesota        5\n",
       "louisiana        5\n",
       "montana          5\n",
       "wisconsin        5\n",
       "alaska           5\n",
       "southcarolina    5\n",
       "utah             5\n",
       "newhampshire     5\n",
       "hawaii           5\n",
       "arizona          5\n",
       "colorado         5\n",
       "idaho            5\n",
       "oregon           5\n",
       "newmexico        5\n",
       "ohio             5\n",
       "westvirginia     5\n",
       "mississippi      5\n",
       "tenessee         5\n",
       "massachusetts    5\n",
       "kentucky         5\n",
       "georgia          5\n",
       "connecticut      5\n",
       "southdakota      5\n",
       "california       5\n",
       "nevada           5\n",
       "maryland         5\n",
       "illinois         5\n",
       "pennsylvania     5\n",
       "oklahoma         5\n",
       "virginia         5\n",
       "kansas           5\n",
       "wyoming          5\n",
       "northdakota      5\n",
       "Name: state, dtype: int64"
      ]
     },
     "execution_count": 95,
     "metadata": {},
     "output_type": "execute_result"
    }
   ],
   "source": [
    "mortality.state.value_counts()"
   ]
  },
  {
   "cell_type": "code",
   "execution_count": 67,
   "metadata": {},
   "outputs": [],
   "source": [
    "# Using regular expression to extract the state name in URL\n",
    "pattern = r\"(?<=/nchs/pressroom/states/)\\b(/w+)\\b(?=/.+)\"\n",
    "mortality['state'] = mortality.URL.str.extract(r\"(?<=/nchs/pressroom/states/)(\\w.+)(?=\\/.+)\")"
   ]
  },
  {
   "cell_type": "code",
   "execution_count": 68,
   "metadata": {},
   "outputs": [],
   "source": [
    "# Choosing the year 2017\n",
    "mortality2017 = mortality[mortality.YEAR == 2017.0]"
   ]
  },
  {
   "cell_type": "code",
   "execution_count": 77,
   "metadata": {},
   "outputs": [],
   "source": [
    "mortality['YEAR'] = mortality2017['YEAR'] = 2017"
   ]
  },
  {
   "cell_type": "code",
   "execution_count": 78,
   "metadata": {},
   "outputs": [
    {
     "data": {
      "text/html": [
       "<div>\n",
       "<style scoped>\n",
       "    .dataframe tbody tr th:only-of-type {\n",
       "        vertical-align: middle;\n",
       "    }\n",
       "\n",
       "    .dataframe tbody tr th {\n",
       "        vertical-align: top;\n",
       "    }\n",
       "\n",
       "    .dataframe thead th {\n",
       "        text-align: right;\n",
       "    }\n",
       "</style>\n",
       "<table border=\"1\" class=\"dataframe\">\n",
       "  <thead>\n",
       "    <tr style=\"text-align: right;\">\n",
       "      <th></th>\n",
       "      <th>YEAR</th>\n",
       "      <th>STATE</th>\n",
       "      <th>RATE</th>\n",
       "      <th>DEATHS</th>\n",
       "      <th>URL</th>\n",
       "      <th>state</th>\n",
       "    </tr>\n",
       "  </thead>\n",
       "  <tbody>\n",
       "    <tr>\n",
       "      <td>0</td>\n",
       "      <td>2017</td>\n",
       "      <td>AL</td>\n",
       "      <td>22.9</td>\n",
       "      <td>1,124</td>\n",
       "      <td>/nchs/pressroom/states/alabama/alabama.htm</td>\n",
       "      <td>alabama</td>\n",
       "    </tr>\n",
       "    <tr>\n",
       "      <td>1</td>\n",
       "      <td>2017</td>\n",
       "      <td>AK</td>\n",
       "      <td>24.5</td>\n",
       "      <td>180</td>\n",
       "      <td>/nchs/pressroom/states/alaska/alaska.htm</td>\n",
       "      <td>alaska</td>\n",
       "    </tr>\n",
       "    <tr>\n",
       "      <td>2</td>\n",
       "      <td>2017</td>\n",
       "      <td>AZ</td>\n",
       "      <td>15.8</td>\n",
       "      <td>1,134</td>\n",
       "      <td>/nchs/pressroom/states/arizona/arizona.htm</td>\n",
       "      <td>arizona</td>\n",
       "    </tr>\n",
       "    <tr>\n",
       "      <td>3</td>\n",
       "      <td>2017</td>\n",
       "      <td>AR</td>\n",
       "      <td>20.3</td>\n",
       "      <td>613</td>\n",
       "      <td>/nchs/pressroom/states/arkansas/arkansas.htm</td>\n",
       "      <td>arkansas</td>\n",
       "    </tr>\n",
       "    <tr>\n",
       "      <td>4</td>\n",
       "      <td>2017</td>\n",
       "      <td>CA</td>\n",
       "      <td>7.9</td>\n",
       "      <td>3,184</td>\n",
       "      <td>/nchs/pressroom/states/california/california.htm</td>\n",
       "      <td>california</td>\n",
       "    </tr>\n",
       "  </tbody>\n",
       "</table>\n",
       "</div>"
      ],
      "text/plain": [
       "   YEAR STATE  RATE DEATHS                                               URL  \\\n",
       "0  2017    AL  22.9  1,124        /nchs/pressroom/states/alabama/alabama.htm   \n",
       "1  2017    AK  24.5    180          /nchs/pressroom/states/alaska/alaska.htm   \n",
       "2  2017    AZ  15.8  1,134        /nchs/pressroom/states/arizona/arizona.htm   \n",
       "3  2017    AR  20.3    613      /nchs/pressroom/states/arkansas/arkansas.htm   \n",
       "4  2017    CA   7.9  3,184  /nchs/pressroom/states/california/california.htm   \n",
       "\n",
       "        state  \n",
       "0     alabama  \n",
       "1      alaska  \n",
       "2     arizona  \n",
       "3    arkansas  \n",
       "4  california  "
      ]
     },
     "execution_count": 78,
     "metadata": {},
     "output_type": "execute_result"
    }
   ],
   "source": [
    "mortality2017.head()"
   ]
  },
  {
   "cell_type": "code",
   "execution_count": 74,
   "metadata": {},
   "outputs": [],
   "source": [
    "# Make a copy of the orginial dataframe excluding the URL\n",
    "mortality2017copy = mortality2017.copy()[['YEAR','state','RATE','DEATHS']]"
   ]
  },
  {
   "cell_type": "code",
   "execution_count": 72,
   "metadata": {},
   "outputs": [
    {
     "data": {
      "text/plain": [
       "(251, 4)"
      ]
     },
     "execution_count": 72,
     "metadata": {},
     "output_type": "execute_result"
    }
   ],
   "source": [
    "mortality2017copy.shape"
   ]
  },
  {
   "cell_type": "code",
   "execution_count": 91,
   "metadata": {},
   "outputs": [
    {
     "data": {
      "text/html": [
       "<div>\n",
       "<style scoped>\n",
       "    .dataframe tbody tr th:only-of-type {\n",
       "        vertical-align: middle;\n",
       "    }\n",
       "\n",
       "    .dataframe tbody tr th {\n",
       "        vertical-align: top;\n",
       "    }\n",
       "\n",
       "    .dataframe thead th {\n",
       "        text-align: right;\n",
       "    }\n",
       "</style>\n",
       "<table border=\"1\" class=\"dataframe\">\n",
       "  <thead>\n",
       "    <tr style=\"text-align: right;\">\n",
       "      <th></th>\n",
       "      <th>YEAR</th>\n",
       "      <th>state</th>\n",
       "      <th>RATE</th>\n",
       "      <th>DEATHS</th>\n",
       "    </tr>\n",
       "  </thead>\n",
       "  <tbody>\n",
       "    <tr>\n",
       "      <td>46</td>\n",
       "      <td>2017</td>\n",
       "      <td>washington</td>\n",
       "      <td>11.1</td>\n",
       "      <td>849</td>\n",
       "    </tr>\n",
       "    <tr>\n",
       "      <td>96</td>\n",
       "      <td>2017</td>\n",
       "      <td>washington</td>\n",
       "      <td>9.0</td>\n",
       "      <td>686</td>\n",
       "    </tr>\n",
       "    <tr>\n",
       "      <td>146</td>\n",
       "      <td>2017</td>\n",
       "      <td>washington</td>\n",
       "      <td>9.8</td>\n",
       "      <td>718</td>\n",
       "    </tr>\n",
       "    <tr>\n",
       "      <td>196</td>\n",
       "      <td>2017</td>\n",
       "      <td>washington</td>\n",
       "      <td>9.7</td>\n",
       "      <td>702</td>\n",
       "    </tr>\n",
       "    <tr>\n",
       "      <td>246</td>\n",
       "      <td>2017</td>\n",
       "      <td>washington</td>\n",
       "      <td>8.8</td>\n",
       "      <td>567</td>\n",
       "    </tr>\n",
       "  </tbody>\n",
       "</table>\n",
       "</div>"
      ],
      "text/plain": [
       "     YEAR       state  RATE DEATHS\n",
       "46   2017  washington  11.1    849\n",
       "96   2017  washington   9.0    686\n",
       "146  2017  washington   9.8    718\n",
       "196  2017  washington   9.7    702\n",
       "246  2017  washington   8.8    567"
      ]
     },
     "execution_count": 91,
     "metadata": {},
     "output_type": "execute_result"
    }
   ],
   "source": [
    "# Mortality data consists of 5 different rate and deaths number for each state. Rate will be averaged and Deaths will be summed.\n",
    "mortality2017copy[mortality2017copy[\"state\"] == \"washington\"]"
   ]
  },
  {
   "cell_type": "code",
   "execution_count": 127,
   "metadata": {},
   "outputs": [
    {
     "name": "stdout",
     "output_type": "stream",
     "text": [
      "<class 'pandas.core.frame.DataFrame'>\n",
      "Int64Index: 251 entries, 0 to 250\n",
      "Data columns (total 4 columns):\n",
      "YEAR      251 non-null int64\n",
      "state     250 non-null object\n",
      "RATE      250 non-null float64\n",
      "DEATHS    250 non-null float64\n",
      "dtypes: float64(2), int64(1), object(1)\n",
      "memory usage: 19.8+ KB\n"
     ]
    }
   ],
   "source": [
    "# Find the type of each column before aggregating. DEATHS column is a string. This column needs to be converted to integer for summation.\n",
    "mortality2017copy.info()"
   ]
  },
  {
   "cell_type": "code",
   "execution_count": 128,
   "metadata": {},
   "outputs": [
    {
     "ename": "AttributeError",
     "evalue": "Can only use .str accessor with string values!",
     "output_type": "error",
     "traceback": [
      "\u001b[1;31m---------------------------------------------------------------------------\u001b[0m",
      "\u001b[1;31mAttributeError\u001b[0m                            Traceback (most recent call last)",
      "\u001b[1;32m<ipython-input-128-061f81bd9e85>\u001b[0m in \u001b[0;36m<module>\u001b[1;34m\u001b[0m\n\u001b[0;32m      1\u001b[0m \u001b[1;31m# There was comma for every thousand. This was removed and converted to integer\u001b[0m\u001b[1;33m\u001b[0m\u001b[1;33m\u001b[0m\u001b[1;33m\u001b[0m\u001b[0m\n\u001b[1;32m----> 2\u001b[1;33m \u001b[0mmortality2017copy\u001b[0m\u001b[1;33m[\u001b[0m\u001b[1;34m\"DEATHS\"\u001b[0m\u001b[1;33m]\u001b[0m \u001b[1;33m=\u001b[0m \u001b[0mmortality2017copy\u001b[0m\u001b[1;33m[\u001b[0m\u001b[1;34m'DEATHS'\u001b[0m\u001b[1;33m]\u001b[0m\u001b[1;33m.\u001b[0m\u001b[0mstr\u001b[0m\u001b[1;33m.\u001b[0m\u001b[0mreplace\u001b[0m\u001b[1;33m(\u001b[0m\u001b[1;34m','\u001b[0m\u001b[1;33m,\u001b[0m\u001b[1;34m''\u001b[0m\u001b[1;33m)\u001b[0m\u001b[1;33m.\u001b[0m\u001b[0mdropna\u001b[0m\u001b[1;33m(\u001b[0m\u001b[1;33m)\u001b[0m\u001b[1;33m.\u001b[0m\u001b[0mastype\u001b[0m\u001b[1;33m(\u001b[0m\u001b[1;34m'int64'\u001b[0m\u001b[1;33m)\u001b[0m\u001b[1;33m\u001b[0m\u001b[1;33m\u001b[0m\u001b[0m\n\u001b[0m",
      "\u001b[1;32mC:\\ProgramData\\Anaconda3\\lib\\site-packages\\pandas\\core\\generic.py\u001b[0m in \u001b[0;36m__getattr__\u001b[1;34m(self, name)\u001b[0m\n\u001b[0;32m   5173\u001b[0m             \u001b[1;32mor\u001b[0m \u001b[0mname\u001b[0m \u001b[1;32min\u001b[0m \u001b[0mself\u001b[0m\u001b[1;33m.\u001b[0m\u001b[0m_accessors\u001b[0m\u001b[1;33m\u001b[0m\u001b[1;33m\u001b[0m\u001b[0m\n\u001b[0;32m   5174\u001b[0m         ):\n\u001b[1;32m-> 5175\u001b[1;33m             \u001b[1;32mreturn\u001b[0m \u001b[0mobject\u001b[0m\u001b[1;33m.\u001b[0m\u001b[0m__getattribute__\u001b[0m\u001b[1;33m(\u001b[0m\u001b[0mself\u001b[0m\u001b[1;33m,\u001b[0m \u001b[0mname\u001b[0m\u001b[1;33m)\u001b[0m\u001b[1;33m\u001b[0m\u001b[1;33m\u001b[0m\u001b[0m\n\u001b[0m\u001b[0;32m   5176\u001b[0m         \u001b[1;32melse\u001b[0m\u001b[1;33m:\u001b[0m\u001b[1;33m\u001b[0m\u001b[1;33m\u001b[0m\u001b[0m\n\u001b[0;32m   5177\u001b[0m             \u001b[1;32mif\u001b[0m \u001b[0mself\u001b[0m\u001b[1;33m.\u001b[0m\u001b[0m_info_axis\u001b[0m\u001b[1;33m.\u001b[0m\u001b[0m_can_hold_identifiers_and_holds_name\u001b[0m\u001b[1;33m(\u001b[0m\u001b[0mname\u001b[0m\u001b[1;33m)\u001b[0m\u001b[1;33m:\u001b[0m\u001b[1;33m\u001b[0m\u001b[1;33m\u001b[0m\u001b[0m\n",
      "\u001b[1;32mC:\\ProgramData\\Anaconda3\\lib\\site-packages\\pandas\\core\\accessor.py\u001b[0m in \u001b[0;36m__get__\u001b[1;34m(self, obj, cls)\u001b[0m\n\u001b[0;32m    173\u001b[0m             \u001b[1;31m# we're accessing the attribute of the class, i.e., Dataset.geo\u001b[0m\u001b[1;33m\u001b[0m\u001b[1;33m\u001b[0m\u001b[1;33m\u001b[0m\u001b[0m\n\u001b[0;32m    174\u001b[0m             \u001b[1;32mreturn\u001b[0m \u001b[0mself\u001b[0m\u001b[1;33m.\u001b[0m\u001b[0m_accessor\u001b[0m\u001b[1;33m\u001b[0m\u001b[1;33m\u001b[0m\u001b[0m\n\u001b[1;32m--> 175\u001b[1;33m         \u001b[0maccessor_obj\u001b[0m \u001b[1;33m=\u001b[0m \u001b[0mself\u001b[0m\u001b[1;33m.\u001b[0m\u001b[0m_accessor\u001b[0m\u001b[1;33m(\u001b[0m\u001b[0mobj\u001b[0m\u001b[1;33m)\u001b[0m\u001b[1;33m\u001b[0m\u001b[1;33m\u001b[0m\u001b[0m\n\u001b[0m\u001b[0;32m    176\u001b[0m         \u001b[1;31m# Replace the property with the accessor object. Inspired by:\u001b[0m\u001b[1;33m\u001b[0m\u001b[1;33m\u001b[0m\u001b[1;33m\u001b[0m\u001b[0m\n\u001b[0;32m    177\u001b[0m         \u001b[1;31m# http://www.pydanny.com/cached-property.html\u001b[0m\u001b[1;33m\u001b[0m\u001b[1;33m\u001b[0m\u001b[1;33m\u001b[0m\u001b[0m\n",
      "\u001b[1;32mC:\\ProgramData\\Anaconda3\\lib\\site-packages\\pandas\\core\\strings.py\u001b[0m in \u001b[0;36m__init__\u001b[1;34m(self, data)\u001b[0m\n\u001b[0;32m   1915\u001b[0m \u001b[1;33m\u001b[0m\u001b[0m\n\u001b[0;32m   1916\u001b[0m     \u001b[1;32mdef\u001b[0m \u001b[0m__init__\u001b[0m\u001b[1;33m(\u001b[0m\u001b[0mself\u001b[0m\u001b[1;33m,\u001b[0m \u001b[0mdata\u001b[0m\u001b[1;33m)\u001b[0m\u001b[1;33m:\u001b[0m\u001b[1;33m\u001b[0m\u001b[1;33m\u001b[0m\u001b[0m\n\u001b[1;32m-> 1917\u001b[1;33m         \u001b[0mself\u001b[0m\u001b[1;33m.\u001b[0m\u001b[0m_inferred_dtype\u001b[0m \u001b[1;33m=\u001b[0m \u001b[0mself\u001b[0m\u001b[1;33m.\u001b[0m\u001b[0m_validate\u001b[0m\u001b[1;33m(\u001b[0m\u001b[0mdata\u001b[0m\u001b[1;33m)\u001b[0m\u001b[1;33m\u001b[0m\u001b[1;33m\u001b[0m\u001b[0m\n\u001b[0m\u001b[0;32m   1918\u001b[0m         \u001b[0mself\u001b[0m\u001b[1;33m.\u001b[0m\u001b[0m_is_categorical\u001b[0m \u001b[1;33m=\u001b[0m \u001b[0mis_categorical_dtype\u001b[0m\u001b[1;33m(\u001b[0m\u001b[0mdata\u001b[0m\u001b[1;33m)\u001b[0m\u001b[1;33m\u001b[0m\u001b[1;33m\u001b[0m\u001b[0m\n\u001b[0;32m   1919\u001b[0m \u001b[1;33m\u001b[0m\u001b[0m\n",
      "\u001b[1;32mC:\\ProgramData\\Anaconda3\\lib\\site-packages\\pandas\\core\\strings.py\u001b[0m in \u001b[0;36m_validate\u001b[1;34m(data)\u001b[0m\n\u001b[0;32m   1965\u001b[0m \u001b[1;33m\u001b[0m\u001b[0m\n\u001b[0;32m   1966\u001b[0m         \u001b[1;32mif\u001b[0m \u001b[0minferred_dtype\u001b[0m \u001b[1;32mnot\u001b[0m \u001b[1;32min\u001b[0m \u001b[0mallowed_types\u001b[0m\u001b[1;33m:\u001b[0m\u001b[1;33m\u001b[0m\u001b[1;33m\u001b[0m\u001b[0m\n\u001b[1;32m-> 1967\u001b[1;33m             \u001b[1;32mraise\u001b[0m \u001b[0mAttributeError\u001b[0m\u001b[1;33m(\u001b[0m\u001b[1;34m\"Can only use .str accessor with string \"\u001b[0m \u001b[1;34m\"values!\"\u001b[0m\u001b[1;33m)\u001b[0m\u001b[1;33m\u001b[0m\u001b[1;33m\u001b[0m\u001b[0m\n\u001b[0m\u001b[0;32m   1968\u001b[0m         \u001b[1;32mreturn\u001b[0m \u001b[0minferred_dtype\u001b[0m\u001b[1;33m\u001b[0m\u001b[1;33m\u001b[0m\u001b[0m\n\u001b[0;32m   1969\u001b[0m \u001b[1;33m\u001b[0m\u001b[0m\n",
      "\u001b[1;31mAttributeError\u001b[0m: Can only use .str accessor with string values!"
     ]
    }
   ],
   "source": [
    "# There was comma for every thousand. This was removed and converted to integer\n",
    "mortality2017copy[\"DEATHS\"] = mortality2017copy['DEATHS'].str.replace(',','').dropna().astype('int64')"
   ]
  },
  {
   "cell_type": "code",
   "execution_count": 130,
   "metadata": {},
   "outputs": [
    {
     "data": {
      "text/html": [
       "<div>\n",
       "<style scoped>\n",
       "    .dataframe tbody tr th:only-of-type {\n",
       "        vertical-align: middle;\n",
       "    }\n",
       "\n",
       "    .dataframe tbody tr th {\n",
       "        vertical-align: top;\n",
       "    }\n",
       "\n",
       "    .dataframe thead th {\n",
       "        text-align: right;\n",
       "    }\n",
       "</style>\n",
       "<table border=\"1\" class=\"dataframe\">\n",
       "  <thead>\n",
       "    <tr style=\"text-align: right;\">\n",
       "      <th></th>\n",
       "      <th>state</th>\n",
       "      <th>RATE</th>\n",
       "      <th>DEATHS</th>\n",
       "    </tr>\n",
       "  </thead>\n",
       "  <tbody>\n",
       "    <tr>\n",
       "      <td>0</td>\n",
       "      <td>alabama</td>\n",
       "      <td>19.38</td>\n",
       "      <td>4679.0</td>\n",
       "    </tr>\n",
       "    <tr>\n",
       "      <td>1</td>\n",
       "      <td>alaska</td>\n",
       "      <td>21.58</td>\n",
       "      <td>795.0</td>\n",
       "    </tr>\n",
       "    <tr>\n",
       "      <td>2</td>\n",
       "      <td>arizona</td>\n",
       "      <td>14.88</td>\n",
       "      <td>5059.0</td>\n",
       "    </tr>\n",
       "    <tr>\n",
       "      <td>3</td>\n",
       "      <td>arkansas</td>\n",
       "      <td>17.46</td>\n",
       "      <td>2609.0</td>\n",
       "    </tr>\n",
       "    <tr>\n",
       "      <td>4</td>\n",
       "      <td>california</td>\n",
       "      <td>8.08</td>\n",
       "      <td>15858.0</td>\n",
       "    </tr>\n",
       "  </tbody>\n",
       "</table>\n",
       "</div>"
      ],
      "text/plain": [
       "        state   RATE   DEATHS\n",
       "0     alabama  19.38   4679.0\n",
       "1      alaska  21.58    795.0\n",
       "2     arizona  14.88   5059.0\n",
       "3    arkansas  17.46   2609.0\n",
       "4  california   8.08  15858.0"
      ]
     },
     "execution_count": 130,
     "metadata": {},
     "output_type": "execute_result"
    }
   ],
   "source": [
    "# Aggregating by state\n",
    "mort2017 = mortality2017copy.groupby('state').agg({'RATE':'mean','DEATHS':'sum'}).reset_index()\n",
    "mort2017.head(5)"
   ]
  },
  {
   "cell_type": "markdown",
   "metadata": {},
   "source": [
    "# Merge Gun Permit Dataset and Mortality Dataset"
   ]
  },
  {
   "cell_type": "code",
   "execution_count": 131,
   "metadata": {},
   "outputs": [
    {
     "data": {
      "text/html": [
       "<div>\n",
       "<style scoped>\n",
       "    .dataframe tbody tr th:only-of-type {\n",
       "        vertical-align: middle;\n",
       "    }\n",
       "\n",
       "    .dataframe tbody tr th {\n",
       "        vertical-align: top;\n",
       "    }\n",
       "\n",
       "    .dataframe thead th {\n",
       "        text-align: right;\n",
       "    }\n",
       "</style>\n",
       "<table border=\"1\" class=\"dataframe\">\n",
       "  <thead>\n",
       "    <tr style=\"text-align: right;\">\n",
       "      <th></th>\n",
       "      <th>state</th>\n",
       "      <th>totals</th>\n",
       "      <th>RATE</th>\n",
       "      <th>DEATHS</th>\n",
       "    </tr>\n",
       "  </thead>\n",
       "  <tbody>\n",
       "    <tr>\n",
       "      <td>0</td>\n",
       "      <td>alabama</td>\n",
       "      <td>477345.0</td>\n",
       "      <td>19.38</td>\n",
       "      <td>4679.0</td>\n",
       "    </tr>\n",
       "    <tr>\n",
       "      <td>1</td>\n",
       "      <td>alaska</td>\n",
       "      <td>80839.0</td>\n",
       "      <td>21.58</td>\n",
       "      <td>795.0</td>\n",
       "    </tr>\n",
       "    <tr>\n",
       "      <td>2</td>\n",
       "      <td>arizona</td>\n",
       "      <td>384930.0</td>\n",
       "      <td>14.88</td>\n",
       "      <td>5059.0</td>\n",
       "    </tr>\n",
       "    <tr>\n",
       "      <td>3</td>\n",
       "      <td>arkansas</td>\n",
       "      <td>237629.0</td>\n",
       "      <td>17.46</td>\n",
       "      <td>2609.0</td>\n",
       "    </tr>\n",
       "    <tr>\n",
       "      <td>4</td>\n",
       "      <td>california</td>\n",
       "      <td>1570110.0</td>\n",
       "      <td>8.08</td>\n",
       "      <td>15858.0</td>\n",
       "    </tr>\n",
       "  </tbody>\n",
       "</table>\n",
       "</div>"
      ],
      "text/plain": [
       "        state     totals   RATE   DEATHS\n",
       "0     alabama   477345.0  19.38   4679.0\n",
       "1      alaska    80839.0  21.58    795.0\n",
       "2     arizona   384930.0  14.88   5059.0\n",
       "3    arkansas   237629.0  17.46   2609.0\n",
       "4  california  1570110.0   8.08  15858.0"
      ]
     },
     "execution_count": 131,
     "metadata": {},
     "output_type": "execute_result"
    }
   ],
   "source": [
    "# Merge two dataset by using the state column\n",
    "merged2017 = pd.merge(permit2017bystate,mort2017,how='outer', on = 'state')\n",
    "merged2017.head()"
   ]
  },
  {
   "cell_type": "code",
   "execution_count": 124,
   "metadata": {},
   "outputs": [
    {
     "data": {
      "text/html": [
       "<div>\n",
       "<style scoped>\n",
       "    .dataframe tbody tr th:only-of-type {\n",
       "        vertical-align: middle;\n",
       "    }\n",
       "\n",
       "    .dataframe tbody tr th {\n",
       "        vertical-align: top;\n",
       "    }\n",
       "\n",
       "    .dataframe thead th {\n",
       "        text-align: right;\n",
       "    }\n",
       "</style>\n",
       "<table border=\"1\" class=\"dataframe\">\n",
       "  <thead>\n",
       "    <tr style=\"text-align: right;\">\n",
       "      <th></th>\n",
       "      <th>state</th>\n",
       "      <th>totals</th>\n",
       "      <th>RATE</th>\n",
       "      <th>DEATHS</th>\n",
       "    </tr>\n",
       "  </thead>\n",
       "  <tbody>\n",
       "    <tr>\n",
       "      <td>18</td>\n",
       "      <td>kentucky</td>\n",
       "      <td>4641480.0</td>\n",
       "      <td>15.16</td>\n",
       "      <td>3378.0</td>\n",
       "    </tr>\n",
       "    <tr>\n",
       "      <td>14</td>\n",
       "      <td>illinois</td>\n",
       "      <td>1601087.0</td>\n",
       "      <td>10.06</td>\n",
       "      <td>6451.0</td>\n",
       "    </tr>\n",
       "    <tr>\n",
       "      <td>4</td>\n",
       "      <td>california</td>\n",
       "      <td>1570110.0</td>\n",
       "      <td>8.08</td>\n",
       "      <td>15858.0</td>\n",
       "    </tr>\n",
       "    <tr>\n",
       "      <td>46</td>\n",
       "      <td>texas</td>\n",
       "      <td>1549434.0</td>\n",
       "      <td>11.60</td>\n",
       "      <td>15407.0</td>\n",
       "    </tr>\n",
       "    <tr>\n",
       "      <td>9</td>\n",
       "      <td>florida</td>\n",
       "      <td>1276549.0</td>\n",
       "      <td>11.70</td>\n",
       "      <td>12235.0</td>\n",
       "    </tr>\n",
       "  </tbody>\n",
       "</table>\n",
       "</div>"
      ],
      "text/plain": [
       "         state     totals   RATE   DEATHS\n",
       "18    kentucky  4641480.0  15.16   3378.0\n",
       "14    illinois  1601087.0  10.06   6451.0\n",
       "4   california  1570110.0   8.08  15858.0\n",
       "46       texas  1549434.0  11.60  15407.0\n",
       "9      florida  1276549.0  11.70  12235.0"
      ]
     },
     "execution_count": 124,
     "metadata": {},
     "output_type": "execute_result"
    }
   ],
   "source": [
    "# Drop States that have no data\n",
    "merged2017 = merged2017.dropna().sort_values(by='totals',ascending=False)\n",
    "totalstop5 = merged2017.head()\n",
    "totalstop5"
   ]
  },
  {
   "cell_type": "code",
   "execution_count": 125,
   "metadata": {},
   "outputs": [
    {
     "data": {
      "text/html": [
       "<div>\n",
       "<style scoped>\n",
       "    .dataframe tbody tr th:only-of-type {\n",
       "        vertical-align: middle;\n",
       "    }\n",
       "\n",
       "    .dataframe tbody tr th {\n",
       "        vertical-align: top;\n",
       "    }\n",
       "\n",
       "    .dataframe thead th {\n",
       "        text-align: right;\n",
       "    }\n",
       "</style>\n",
       "<table border=\"1\" class=\"dataframe\">\n",
       "  <thead>\n",
       "    <tr style=\"text-align: right;\">\n",
       "      <th></th>\n",
       "      <th>state</th>\n",
       "      <th>totals</th>\n",
       "      <th>RATE</th>\n",
       "      <th>DEATHS</th>\n",
       "    </tr>\n",
       "  </thead>\n",
       "  <tbody>\n",
       "    <tr>\n",
       "      <td>1</td>\n",
       "      <td>alaska</td>\n",
       "      <td>80839.0</td>\n",
       "      <td>21.58</td>\n",
       "      <td>795.0</td>\n",
       "    </tr>\n",
       "    <tr>\n",
       "      <td>19</td>\n",
       "      <td>louisiana</td>\n",
       "      <td>329201.0</td>\n",
       "      <td>20.18</td>\n",
       "      <td>4701.0</td>\n",
       "    </tr>\n",
       "    <tr>\n",
       "      <td>0</td>\n",
       "      <td>alabama</td>\n",
       "      <td>477345.0</td>\n",
       "      <td>19.38</td>\n",
       "      <td>4679.0</td>\n",
       "    </tr>\n",
       "    <tr>\n",
       "      <td>26</td>\n",
       "      <td>mississippi</td>\n",
       "      <td>251852.0</td>\n",
       "      <td>19.06</td>\n",
       "      <td>2810.0</td>\n",
       "    </tr>\n",
       "    <tr>\n",
       "      <td>28</td>\n",
       "      <td>montana</td>\n",
       "      <td>123938.0</td>\n",
       "      <td>18.72</td>\n",
       "      <td>976.0</td>\n",
       "    </tr>\n",
       "  </tbody>\n",
       "</table>\n",
       "</div>"
      ],
      "text/plain": [
       "          state    totals   RATE  DEATHS\n",
       "1        alaska   80839.0  21.58   795.0\n",
       "19    louisiana  329201.0  20.18  4701.0\n",
       "0       alabama  477345.0  19.38  4679.0\n",
       "26  mississippi  251852.0  19.06  2810.0\n",
       "28      montana  123938.0  18.72   976.0"
      ]
     },
     "execution_count": 125,
     "metadata": {},
     "output_type": "execute_result"
    }
   ],
   "source": [
    "# Sort by the RATE column (death rates per 100,000 people)\n",
    "deaths_top5 = merged2017.sort_values(by='RATE',ascending=False)\n",
    "deaths_top5.head()"
   ]
  },
  {
   "cell_type": "code",
   "execution_count": 140,
   "metadata": {},
   "outputs": [
    {
     "data": {
      "text/plain": [
       "Text(0.5, 1.0, 'Top 5 Permits given by States given Deaths')"
      ]
     },
     "execution_count": 140,
     "metadata": {},
     "output_type": "execute_result"
    },
    {
     "data": {
      "image/png": "[encoded data removed]",
      "text/plain": [
       "<Figure size 1440x720 with 6 Axes>"
      ]
     },
     "metadata": {
      "needs_background": "light"
     },
     "output_type": "display_data"
    }
   ],
   "source": [
    "# Make Visulisation for top 5 death rate\n",
    "top5 = deaths_top5.head()\n",
    "fig, ax = plt.subplots(2,3)\n",
    "ax[0,0].bar(top5.state,top5.RATE)\n",
    "ax[0,0].set_ylabel('Death rate per 100000')\n",
    "ax[0,0].set_title('Top 5 Death Rate by States')\n",
    "\n",
    "ax[0,1].bar(top5.state,top5.totals)\n",
    "ax[0,1].set_ylabel('Permits')\n",
    "ax[0,1].set_title('Top 5 Death Rate by States given permits')\n",
    "\n",
    "ax[0,2].bar(top5.state,top5.DEATHS)\n",
    "ax[0,2].set_ylabel('Deaths')\n",
    "ax[0,2].set_title('Top 5 Death Rate by States given Deaths')\n",
    "\n",
    "\n",
    "ax[1,0].bar(totalstop5.state,totalstop5.RATE)\n",
    "ax[1,0].set_ylabel('Death rate per 100000')\n",
    "ax[1,0].set_title('Top 5 Permits given by States given Death Rate')\n",
    "\n",
    "ax[1,1].bar(totalstop5.state,totalstop5.totals)\n",
    "ax[1,1].set_ylabel('Permits')\n",
    "ax[1,1].set_title('Top 5 Permits given by States')\n",
    "\n",
    "ax[1,2].bar(totalstop5.state,totalstop5.DEATHS)\n",
    "ax[1,2].set_ylabel('Permits')\n",
    "ax[1,2].set_title('Top 5 Permits given by States given Deaths')"
   ]
  },
  {
   "cell_type": "markdown",
   "metadata": {},
   "source": [
    "Ironically, Alaska, which gave one of the lowest number of gun permits, has the highet death rate. On the other hand, Kentucky, which was given the most gun permits to citizens, has one of the lowest deaths and lower death rates comparaed to alaska. There is no correlation for the higher number of permits with the higher mortality rate in the given states. Alaska is one of the lowest states with firearm permits (N = 80839); yet, the mortality rate (24.5 deaths per 100,000) is at the highest out of united states. On the contrary, Kentucky, which has given out the most firearm permits (N= 4,641,480) has the rank of 14th in the united states. (16.2 deaths per 100,000)."
   ]
  },
  {
   "cell_type": "markdown",
   "metadata": {},
   "source": [
    "# High School Rate vs Gun Permit vs Mortality Data"
   ]
  },
  {
   "cell_type": "markdown",
   "metadata": {},
   "source": [
    "Now let's check if graduation rate is associated with gun permits or mortatlity rate."
   ]
  },
  {
   "cell_type": "code",
   "execution_count": 141,
   "metadata": {},
   "outputs": [
    {
     "data": {
      "text/html": [
       "<div>\n",
       "<style scoped>\n",
       "    .dataframe tbody tr th:only-of-type {\n",
       "        vertical-align: middle;\n",
       "    }\n",
       "\n",
       "    .dataframe tbody tr th {\n",
       "        vertical-align: top;\n",
       "    }\n",
       "\n",
       "    .dataframe thead th {\n",
       "        text-align: right;\n",
       "    }\n",
       "</style>\n",
       "<table border=\"1\" class=\"dataframe\">\n",
       "  <thead>\n",
       "    <tr style=\"text-align: right;\">\n",
       "      <th></th>\n",
       "      <th>state</th>\n",
       "      <th>graduation rate</th>\n",
       "    </tr>\n",
       "  </thead>\n",
       "  <tbody>\n",
       "    <tr>\n",
       "      <td>0</td>\n",
       "      <td>alabama</td>\n",
       "      <td>89.3</td>\n",
       "    </tr>\n",
       "    <tr>\n",
       "      <td>1</td>\n",
       "      <td>alaska</td>\n",
       "      <td>78.2</td>\n",
       "    </tr>\n",
       "    <tr>\n",
       "      <td>2</td>\n",
       "      <td>arizona</td>\n",
       "      <td>78.0</td>\n",
       "    </tr>\n",
       "    <tr>\n",
       "      <td>3</td>\n",
       "      <td>arkansas</td>\n",
       "      <td>88.0</td>\n",
       "    </tr>\n",
       "    <tr>\n",
       "      <td>4</td>\n",
       "      <td>california</td>\n",
       "      <td>82.7</td>\n",
       "    </tr>\n",
       "  </tbody>\n",
       "</table>\n",
       "</div>"
      ],
      "text/plain": [
       "        state  graduation rate\n",
       "0     alabama             89.3\n",
       "1      alaska             78.2\n",
       "2     arizona             78.0\n",
       "3    arkansas             88.0\n",
       "4  california             82.7"
      ]
     },
     "execution_count": 141,
     "metadata": {},
     "output_type": "execute_result"
    }
   ],
   "source": [
    "highschool.head()"
   ]
  },
  {
   "cell_type": "code",
   "execution_count": 142,
   "metadata": {},
   "outputs": [
    {
     "data": {
      "text/html": [
       "<div>\n",
       "<style scoped>\n",
       "    .dataframe tbody tr th:only-of-type {\n",
       "        vertical-align: middle;\n",
       "    }\n",
       "\n",
       "    .dataframe tbody tr th {\n",
       "        vertical-align: top;\n",
       "    }\n",
       "\n",
       "    .dataframe thead th {\n",
       "        text-align: right;\n",
       "    }\n",
       "</style>\n",
       "<table border=\"1\" class=\"dataframe\">\n",
       "  <thead>\n",
       "    <tr style=\"text-align: right;\">\n",
       "      <th></th>\n",
       "      <th>state</th>\n",
       "      <th>graduation rate</th>\n",
       "    </tr>\n",
       "  </thead>\n",
       "  <tbody>\n",
       "    <tr>\n",
       "      <td>0</td>\n",
       "      <td>alabama</td>\n",
       "      <td>89.3</td>\n",
       "    </tr>\n",
       "    <tr>\n",
       "      <td>1</td>\n",
       "      <td>alaska</td>\n",
       "      <td>78.2</td>\n",
       "    </tr>\n",
       "    <tr>\n",
       "      <td>2</td>\n",
       "      <td>arizona</td>\n",
       "      <td>78.0</td>\n",
       "    </tr>\n",
       "    <tr>\n",
       "      <td>3</td>\n",
       "      <td>arkansas</td>\n",
       "      <td>88.0</td>\n",
       "    </tr>\n",
       "    <tr>\n",
       "      <td>4</td>\n",
       "      <td>california</td>\n",
       "      <td>82.7</td>\n",
       "    </tr>\n",
       "  </tbody>\n",
       "</table>\n",
       "</div>"
      ],
      "text/plain": [
       "        state  graduation rate\n",
       "0     alabama             89.3\n",
       "1      alaska             78.2\n",
       "2     arizona             78.0\n",
       "3    arkansas             88.0\n",
       "4  california             82.7"
      ]
     },
     "execution_count": 142,
     "metadata": {},
     "output_type": "execute_result"
    }
   ],
   "source": [
    "# make lowercase for state so we  can merge the data & get rid of white spaces\n",
    "highschool.state = highschool.state.str.lower().str.replace(' ','')\n",
    "highschool.head()"
   ]
  },
  {
   "cell_type": "code",
   "execution_count": 143,
   "metadata": {},
   "outputs": [
    {
     "data": {
      "text/html": [
       "<div>\n",
       "<style scoped>\n",
       "    .dataframe tbody tr th:only-of-type {\n",
       "        vertical-align: middle;\n",
       "    }\n",
       "\n",
       "    .dataframe tbody tr th {\n",
       "        vertical-align: top;\n",
       "    }\n",
       "\n",
       "    .dataframe thead th {\n",
       "        text-align: right;\n",
       "    }\n",
       "</style>\n",
       "<table border=\"1\" class=\"dataframe\">\n",
       "  <thead>\n",
       "    <tr style=\"text-align: right;\">\n",
       "      <th></th>\n",
       "      <th>state</th>\n",
       "      <th>totals</th>\n",
       "      <th>RATE</th>\n",
       "      <th>DEATHS</th>\n",
       "    </tr>\n",
       "  </thead>\n",
       "  <tbody>\n",
       "    <tr>\n",
       "      <td>0</td>\n",
       "      <td>alabama</td>\n",
       "      <td>477345.0</td>\n",
       "      <td>19.38</td>\n",
       "      <td>4679.0</td>\n",
       "    </tr>\n",
       "  </tbody>\n",
       "</table>\n",
       "</div>"
      ],
      "text/plain": [
       "     state    totals   RATE  DEATHS\n",
       "0  alabama  477345.0  19.38  4679.0"
      ]
     },
     "execution_count": 143,
     "metadata": {},
     "output_type": "execute_result"
    }
   ],
   "source": [
    "merged2017.head(1)"
   ]
  },
  {
   "cell_type": "code",
   "execution_count": 144,
   "metadata": {},
   "outputs": [],
   "source": [
    "education = pd.merge(merged2017,highschool,how='outer', on = 'state')"
   ]
  },
  {
   "cell_type": "code",
   "execution_count": 145,
   "metadata": {},
   "outputs": [],
   "source": [
    "education = education.dropna()"
   ]
  },
  {
   "cell_type": "code",
   "execution_count": 146,
   "metadata": {},
   "outputs": [],
   "source": [
    "education1 = education.sort_values(by='graduation rate',ascending=False).reset_index()"
   ]
  },
  {
   "cell_type": "code",
   "execution_count": 148,
   "metadata": {},
   "outputs": [
    {
     "data": {
      "text/html": [
       "<div>\n",
       "<style scoped>\n",
       "    .dataframe tbody tr th:only-of-type {\n",
       "        vertical-align: middle;\n",
       "    }\n",
       "\n",
       "    .dataframe tbody tr th {\n",
       "        vertical-align: top;\n",
       "    }\n",
       "\n",
       "    .dataframe thead th {\n",
       "        text-align: right;\n",
       "    }\n",
       "</style>\n",
       "<table border=\"1\" class=\"dataframe\">\n",
       "  <thead>\n",
       "    <tr style=\"text-align: right;\">\n",
       "      <th></th>\n",
       "      <th>state</th>\n",
       "      <th>totals</th>\n",
       "      <th>RATE</th>\n",
       "      <th>DEATHS</th>\n",
       "      <th>graduation rate</th>\n",
       "    </tr>\n",
       "  </thead>\n",
       "  <tbody>\n",
       "    <tr>\n",
       "      <td>0</td>\n",
       "      <td>iowa</td>\n",
       "      <td>160981.0</td>\n",
       "      <td>8.04</td>\n",
       "      <td>1270.0</td>\n",
       "      <td>91.0</td>\n",
       "    </tr>\n",
       "    <tr>\n",
       "      <td>1</td>\n",
       "      <td>newjersey</td>\n",
       "      <td>103739.0</td>\n",
       "      <td>5.34</td>\n",
       "      <td>2340.0</td>\n",
       "      <td>90.5</td>\n",
       "    </tr>\n",
       "    <tr>\n",
       "      <td>2</td>\n",
       "      <td>texas</td>\n",
       "      <td>1549434.0</td>\n",
       "      <td>11.60</td>\n",
       "      <td>15407.0</td>\n",
       "      <td>89.7</td>\n",
       "    </tr>\n",
       "    <tr>\n",
       "      <td>3</td>\n",
       "      <td>kentucky</td>\n",
       "      <td>4641480.0</td>\n",
       "      <td>15.16</td>\n",
       "      <td>3378.0</td>\n",
       "      <td>89.7</td>\n",
       "    </tr>\n",
       "    <tr>\n",
       "      <td>4</td>\n",
       "      <td>westvirginia</td>\n",
       "      <td>222768.0</td>\n",
       "      <td>15.70</td>\n",
       "      <td>1505.0</td>\n",
       "      <td>89.4</td>\n",
       "    </tr>\n",
       "  </tbody>\n",
       "</table>\n",
       "</div>"
      ],
      "text/plain": [
       "          state     totals   RATE   DEATHS  graduation rate\n",
       "0          iowa   160981.0   8.04   1270.0             91.0\n",
       "1     newjersey   103739.0   5.34   2340.0             90.5\n",
       "2         texas  1549434.0  11.60  15407.0             89.7\n",
       "3      kentucky  4641480.0  15.16   3378.0             89.7\n",
       "4  westvirginia   222768.0  15.70   1505.0             89.4"
      ]
     },
     "execution_count": 148,
     "metadata": {},
     "output_type": "execute_result"
    }
   ],
   "source": [
    "education1.drop('index',axis=1).head()"
   ]
  },
  {
   "cell_type": "code",
   "execution_count": 149,
   "metadata": {},
   "outputs": [
    {
     "data": {
      "text/html": [
       "<div>\n",
       "<style scoped>\n",
       "    .dataframe tbody tr th:only-of-type {\n",
       "        vertical-align: middle;\n",
       "    }\n",
       "\n",
       "    .dataframe tbody tr th {\n",
       "        vertical-align: top;\n",
       "    }\n",
       "\n",
       "    .dataframe thead th {\n",
       "        text-align: right;\n",
       "    }\n",
       "</style>\n",
       "<table border=\"1\" class=\"dataframe\">\n",
       "  <thead>\n",
       "    <tr style=\"text-align: right;\">\n",
       "      <th></th>\n",
       "      <th>state</th>\n",
       "      <th>totals</th>\n",
       "      <th>RATE</th>\n",
       "      <th>DEATHS</th>\n",
       "      <th>graduation rate</th>\n",
       "    </tr>\n",
       "  </thead>\n",
       "  <tbody>\n",
       "    <tr>\n",
       "      <td>44</td>\n",
       "      <td>alaska</td>\n",
       "      <td>80839.0</td>\n",
       "      <td>21.58</td>\n",
       "      <td>795.0</td>\n",
       "      <td>78.2</td>\n",
       "    </tr>\n",
       "    <tr>\n",
       "      <td>45</td>\n",
       "      <td>louisiana</td>\n",
       "      <td>329201.0</td>\n",
       "      <td>20.18</td>\n",
       "      <td>4701.0</td>\n",
       "      <td>78.1</td>\n",
       "    </tr>\n",
       "    <tr>\n",
       "      <td>46</td>\n",
       "      <td>arizona</td>\n",
       "      <td>384930.0</td>\n",
       "      <td>14.88</td>\n",
       "      <td>5059.0</td>\n",
       "      <td>78.0</td>\n",
       "    </tr>\n",
       "    <tr>\n",
       "      <td>47</td>\n",
       "      <td>oregon</td>\n",
       "      <td>341167.0</td>\n",
       "      <td>11.56</td>\n",
       "      <td>2426.0</td>\n",
       "      <td>76.7</td>\n",
       "    </tr>\n",
       "    <tr>\n",
       "      <td>48</td>\n",
       "      <td>newmexico</td>\n",
       "      <td>159779.0</td>\n",
       "      <td>17.02</td>\n",
       "      <td>1774.0</td>\n",
       "      <td>71.1</td>\n",
       "    </tr>\n",
       "  </tbody>\n",
       "</table>\n",
       "</div>"
      ],
      "text/plain": [
       "        state    totals   RATE  DEATHS  graduation rate\n",
       "44     alaska   80839.0  21.58   795.0             78.2\n",
       "45  louisiana  329201.0  20.18  4701.0             78.1\n",
       "46    arizona  384930.0  14.88  5059.0             78.0\n",
       "47     oregon  341167.0  11.56  2426.0             76.7\n",
       "48  newmexico  159779.0  17.02  1774.0             71.1"
      ]
     },
     "execution_count": 149,
     "metadata": {},
     "output_type": "execute_result"
    }
   ],
   "source": [
    "education1.drop('index',axis=1).tail()"
   ]
  },
  {
   "cell_type": "markdown",
   "metadata": {},
   "source": [
    "The highest high school graduation rate is at 91% at iowa state and Iowa state is at 71.1% at New Mexico state. However, the graduation rate does not correlate with the death rate. Also, the graduation rate does not correlate with the permits. This concludes my eda."
   ]
  }
 ],
 "metadata": {
  "kernelspec": {
   "display_name": "Python 3",
   "language": "python",
   "name": "python3"
  },
  "language_info": {
   "codemirror_mode": {
    "name": "ipython",
    "version": 3
   },
   "file_extension": ".py",
   "mimetype": "text/x-python",
   "name": "python",
   "nbconvert_exporter": "python",
   "pygments_lexer": "ipython3",
   "version": "3.7.4"
  }
 },
 "nbformat": 4,
 "nbformat_minor": 4
}
