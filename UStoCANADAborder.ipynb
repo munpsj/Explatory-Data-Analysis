{
 "cells": [
  {
   "cell_type": "markdown",
   "metadata": {},
   "source": [
    "# EDA US-CANADA BORDER CROSSING"
   ]
  },
  {
   "cell_type": "markdown",
   "metadata": {},
   "source": [
    "This dataset consists of border entry to United States from Canada and Mexico.\n",
    "https://www.bts.gov/content/border-crossingentry-data\n",
    "\n",
    "Context\n",
    "The Bureau of Transportation Statistics (BTS) Border Crossing Data provide summary statistics for inbound crossings at the U.S.-Canada and the U.S.-Mexico border at the port level. Data are available for trucks, trains, containers, buses, personal vehicles, passengers, and pedestrians. Border crossing data are collected at ports of entry by U.S. Customs and Border Protection (CBP). The data reflect the number of vehicles, containers, passengers or pedestrians entering the United States. CBP does not collect comparable data on outbound crossings. Users seeking data on outbound counts may therefore want to review data from individual bridge operators, border state governments, or the Mexican and Canadian governments.\n",
    "\n",
    "Content\n",
    "COVERAGE: Incoming vehicle, container, passenger, and pedestrian counts at U.S.-Mexico and U.S.-Canada land border ports.\n",
    "\n",
    "## In this project, I want to find:\n",
    "\n",
    "    1) How many people cross to United States from Canada on road?\n",
    "    2) Which cities from Canada travel down the most on road?\n",
    "    3) What is the percentage of Vancouver within Canada travelling down to US on road?\n",
    "    4) Which border stations did passengers use mostly from Vancouver?"
   ]
  },
  {
   "cell_type": "code",
   "execution_count": 1,
   "metadata": {},
   "outputs": [],
   "source": [
    "import pandas as pd\n",
    "import numpy as np\n",
    "import matplotlib.pyplot as plt\n",
    "import datetime as dt\n",
    "import folium\n",
    "%matplotlib inline\n",
    "\n",
    "# Suppress Deprecation and Incorrect Usage Warnings \n",
    "import warnings\n",
    "warnings.filterwarnings('ignore')"
   ]
  },
  {
   "cell_type": "markdown",
   "metadata": {},
   "source": [
    "Let's look at the data:"
   ]
  },
  {
   "cell_type": "code",
   "execution_count": 2,
   "metadata": {},
   "outputs": [],
   "source": [
    "border_crossing = pd.read_csv(\"Border_Crossing_Entry_Data.csv\")"
   ]
  },
  {
   "cell_type": "code",
   "execution_count": 3,
   "metadata": {},
   "outputs": [
    {
     "data": {
      "text/html": [
       "<div>\n",
       "<style scoped>\n",
       "    .dataframe tbody tr th:only-of-type {\n",
       "        vertical-align: middle;\n",
       "    }\n",
       "\n",
       "    .dataframe tbody tr th {\n",
       "        vertical-align: top;\n",
       "    }\n",
       "\n",
       "    .dataframe thead th {\n",
       "        text-align: right;\n",
       "    }\n",
       "</style>\n",
       "<table border=\"1\" class=\"dataframe\">\n",
       "  <thead>\n",
       "    <tr style=\"text-align: right;\">\n",
       "      <th></th>\n",
       "      <th>Port Name</th>\n",
       "      <th>State</th>\n",
       "      <th>Port Code</th>\n",
       "      <th>Border</th>\n",
       "      <th>Date</th>\n",
       "      <th>Measure</th>\n",
       "      <th>Value</th>\n",
       "      <th>Location</th>\n",
       "    </tr>\n",
       "  </thead>\n",
       "  <tbody>\n",
       "    <tr>\n",
       "      <td>0</td>\n",
       "      <td>Calexico East</td>\n",
       "      <td>California</td>\n",
       "      <td>2507</td>\n",
       "      <td>US-Mexico Border</td>\n",
       "      <td>03/01/2019 12:00:00 AM</td>\n",
       "      <td>Trucks</td>\n",
       "      <td>34447</td>\n",
       "      <td>POINT (-115.48433000000001 32.67524)</td>\n",
       "    </tr>\n",
       "    <tr>\n",
       "      <td>1</td>\n",
       "      <td>Van Buren</td>\n",
       "      <td>Maine</td>\n",
       "      <td>108</td>\n",
       "      <td>US-Canada Border</td>\n",
       "      <td>03/01/2019 12:00:00 AM</td>\n",
       "      <td>Rail Containers Full</td>\n",
       "      <td>428</td>\n",
       "      <td>POINT (-67.94271 47.16207)</td>\n",
       "    </tr>\n",
       "    <tr>\n",
       "      <td>2</td>\n",
       "      <td>Otay Mesa</td>\n",
       "      <td>California</td>\n",
       "      <td>2506</td>\n",
       "      <td>US-Mexico Border</td>\n",
       "      <td>03/01/2019 12:00:00 AM</td>\n",
       "      <td>Trucks</td>\n",
       "      <td>81217</td>\n",
       "      <td>POINT (-117.05333 32.57333)</td>\n",
       "    </tr>\n",
       "    <tr>\n",
       "      <td>3</td>\n",
       "      <td>Nogales</td>\n",
       "      <td>Arizona</td>\n",
       "      <td>2604</td>\n",
       "      <td>US-Mexico Border</td>\n",
       "      <td>03/01/2019 12:00:00 AM</td>\n",
       "      <td>Trains</td>\n",
       "      <td>62</td>\n",
       "      <td>POINT (-110.93361 31.340279999999996)</td>\n",
       "    </tr>\n",
       "    <tr>\n",
       "      <td>4</td>\n",
       "      <td>Trout River</td>\n",
       "      <td>New York</td>\n",
       "      <td>715</td>\n",
       "      <td>US-Canada Border</td>\n",
       "      <td>03/01/2019 12:00:00 AM</td>\n",
       "      <td>Personal Vehicle Passengers</td>\n",
       "      <td>16377</td>\n",
       "      <td>POINT (-73.44253 44.990010000000005)</td>\n",
       "    </tr>\n",
       "  </tbody>\n",
       "</table>\n",
       "</div>"
      ],
      "text/plain": [
       "       Port Name       State  Port Code            Border  \\\n",
       "0  Calexico East  California       2507  US-Mexico Border   \n",
       "1      Van Buren       Maine        108  US-Canada Border   \n",
       "2      Otay Mesa  California       2506  US-Mexico Border   \n",
       "3        Nogales     Arizona       2604  US-Mexico Border   \n",
       "4    Trout River    New York        715  US-Canada Border   \n",
       "\n",
       "                     Date                      Measure  Value  \\\n",
       "0  03/01/2019 12:00:00 AM                       Trucks  34447   \n",
       "1  03/01/2019 12:00:00 AM         Rail Containers Full    428   \n",
       "2  03/01/2019 12:00:00 AM                       Trucks  81217   \n",
       "3  03/01/2019 12:00:00 AM                       Trains     62   \n",
       "4  03/01/2019 12:00:00 AM  Personal Vehicle Passengers  16377   \n",
       "\n",
       "                                Location  \n",
       "0   POINT (-115.48433000000001 32.67524)  \n",
       "1             POINT (-67.94271 47.16207)  \n",
       "2            POINT (-117.05333 32.57333)  \n",
       "3  POINT (-110.93361 31.340279999999996)  \n",
       "4   POINT (-73.44253 44.990010000000005)  "
      ]
     },
     "execution_count": 3,
     "metadata": {},
     "output_type": "execute_result"
    }
   ],
   "source": [
    "border_crossing.head()"
   ]
  },
  {
   "cell_type": "code",
   "execution_count": 4,
   "metadata": {},
   "outputs": [
    {
     "data": {
      "text/html": [
       "<div>\n",
       "<style scoped>\n",
       "    .dataframe tbody tr th:only-of-type {\n",
       "        vertical-align: middle;\n",
       "    }\n",
       "\n",
       "    .dataframe tbody tr th {\n",
       "        vertical-align: top;\n",
       "    }\n",
       "\n",
       "    .dataframe thead th {\n",
       "        text-align: right;\n",
       "    }\n",
       "</style>\n",
       "<table border=\"1\" class=\"dataframe\">\n",
       "  <thead>\n",
       "    <tr style=\"text-align: right;\">\n",
       "      <th></th>\n",
       "      <th>Port Name</th>\n",
       "      <th>State</th>\n",
       "      <th>Port Code</th>\n",
       "      <th>Border</th>\n",
       "      <th>Date</th>\n",
       "      <th>Measure</th>\n",
       "      <th>Value</th>\n",
       "      <th>Location</th>\n",
       "    </tr>\n",
       "  </thead>\n",
       "  <tbody>\n",
       "    <tr>\n",
       "      <td>count</td>\n",
       "      <td>346733</td>\n",
       "      <td>346733</td>\n",
       "      <td>346733.000000</td>\n",
       "      <td>346733</td>\n",
       "      <td>346733</td>\n",
       "      <td>346733</td>\n",
       "      <td>3.467330e+05</td>\n",
       "      <td>346733</td>\n",
       "    </tr>\n",
       "    <tr>\n",
       "      <td>unique</td>\n",
       "      <td>116</td>\n",
       "      <td>15</td>\n",
       "      <td>NaN</td>\n",
       "      <td>2</td>\n",
       "      <td>279</td>\n",
       "      <td>12</td>\n",
       "      <td>NaN</td>\n",
       "      <td>224</td>\n",
       "    </tr>\n",
       "    <tr>\n",
       "      <td>top</td>\n",
       "      <td>Eastport</td>\n",
       "      <td>North Dakota</td>\n",
       "      <td>NaN</td>\n",
       "      <td>US-Canada Border</td>\n",
       "      <td>05/01/2010 12:00:00 AM</td>\n",
       "      <td>Personal Vehicles</td>\n",
       "      <td>NaN</td>\n",
       "      <td>POINT (-83.04 42.32)</td>\n",
       "    </tr>\n",
       "    <tr>\n",
       "      <td>freq</td>\n",
       "      <td>5541</td>\n",
       "      <td>57071</td>\n",
       "      <td>NaN</td>\n",
       "      <td>266187</td>\n",
       "      <td>1356</td>\n",
       "      <td>30219</td>\n",
       "      <td>NaN</td>\n",
       "      <td>3069</td>\n",
       "    </tr>\n",
       "    <tr>\n",
       "      <td>mean</td>\n",
       "      <td>NaN</td>\n",
       "      <td>NaN</td>\n",
       "      <td>2455.504910</td>\n",
       "      <td>NaN</td>\n",
       "      <td>NaN</td>\n",
       "      <td>NaN</td>\n",
       "      <td>2.818767e+04</td>\n",
       "      <td>NaN</td>\n",
       "    </tr>\n",
       "    <tr>\n",
       "      <td>std</td>\n",
       "      <td>NaN</td>\n",
       "      <td>NaN</td>\n",
       "      <td>1201.208459</td>\n",
       "      <td>NaN</td>\n",
       "      <td>NaN</td>\n",
       "      <td>NaN</td>\n",
       "      <td>1.518588e+05</td>\n",
       "      <td>NaN</td>\n",
       "    </tr>\n",
       "    <tr>\n",
       "      <td>min</td>\n",
       "      <td>NaN</td>\n",
       "      <td>NaN</td>\n",
       "      <td>101.000000</td>\n",
       "      <td>NaN</td>\n",
       "      <td>NaN</td>\n",
       "      <td>NaN</td>\n",
       "      <td>0.000000e+00</td>\n",
       "      <td>NaN</td>\n",
       "    </tr>\n",
       "    <tr>\n",
       "      <td>25%</td>\n",
       "      <td>NaN</td>\n",
       "      <td>NaN</td>\n",
       "      <td>2304.000000</td>\n",
       "      <td>NaN</td>\n",
       "      <td>NaN</td>\n",
       "      <td>NaN</td>\n",
       "      <td>0.000000e+00</td>\n",
       "      <td>NaN</td>\n",
       "    </tr>\n",
       "    <tr>\n",
       "      <td>50%</td>\n",
       "      <td>NaN</td>\n",
       "      <td>NaN</td>\n",
       "      <td>3013.000000</td>\n",
       "      <td>NaN</td>\n",
       "      <td>NaN</td>\n",
       "      <td>NaN</td>\n",
       "      <td>9.000000e+01</td>\n",
       "      <td>NaN</td>\n",
       "    </tr>\n",
       "    <tr>\n",
       "      <td>75%</td>\n",
       "      <td>NaN</td>\n",
       "      <td>NaN</td>\n",
       "      <td>3402.000000</td>\n",
       "      <td>NaN</td>\n",
       "      <td>NaN</td>\n",
       "      <td>NaN</td>\n",
       "      <td>2.483000e+03</td>\n",
       "      <td>NaN</td>\n",
       "    </tr>\n",
       "    <tr>\n",
       "      <td>max</td>\n",
       "      <td>NaN</td>\n",
       "      <td>NaN</td>\n",
       "      <td>4105.000000</td>\n",
       "      <td>NaN</td>\n",
       "      <td>NaN</td>\n",
       "      <td>NaN</td>\n",
       "      <td>4.447374e+06</td>\n",
       "      <td>NaN</td>\n",
       "    </tr>\n",
       "  </tbody>\n",
       "</table>\n",
       "</div>"
      ],
      "text/plain": [
       "       Port Name         State      Port Code            Border  \\\n",
       "count     346733        346733  346733.000000            346733   \n",
       "unique       116            15            NaN                 2   \n",
       "top     Eastport  North Dakota            NaN  US-Canada Border   \n",
       "freq        5541         57071            NaN            266187   \n",
       "mean         NaN           NaN    2455.504910               NaN   \n",
       "std          NaN           NaN    1201.208459               NaN   \n",
       "min          NaN           NaN     101.000000               NaN   \n",
       "25%          NaN           NaN    2304.000000               NaN   \n",
       "50%          NaN           NaN    3013.000000               NaN   \n",
       "75%          NaN           NaN    3402.000000               NaN   \n",
       "max          NaN           NaN    4105.000000               NaN   \n",
       "\n",
       "                          Date            Measure         Value  \\\n",
       "count                   346733             346733  3.467330e+05   \n",
       "unique                     279                 12           NaN   \n",
       "top     05/01/2010 12:00:00 AM  Personal Vehicles           NaN   \n",
       "freq                      1356              30219           NaN   \n",
       "mean                       NaN                NaN  2.818767e+04   \n",
       "std                        NaN                NaN  1.518588e+05   \n",
       "min                        NaN                NaN  0.000000e+00   \n",
       "25%                        NaN                NaN  0.000000e+00   \n",
       "50%                        NaN                NaN  9.000000e+01   \n",
       "75%                        NaN                NaN  2.483000e+03   \n",
       "max                        NaN                NaN  4.447374e+06   \n",
       "\n",
       "                    Location  \n",
       "count                 346733  \n",
       "unique                   224  \n",
       "top     POINT (-83.04 42.32)  \n",
       "freq                    3069  \n",
       "mean                     NaN  \n",
       "std                      NaN  \n",
       "min                      NaN  \n",
       "25%                      NaN  \n",
       "50%                      NaN  \n",
       "75%                      NaN  \n",
       "max                      NaN  "
      ]
     },
     "execution_count": 4,
     "metadata": {},
     "output_type": "execute_result"
    }
   ],
   "source": [
    "border_crossing.describe(include='all')"
   ]
  },
  {
   "cell_type": "code",
   "execution_count": 5,
   "metadata": {},
   "outputs": [
    {
     "name": "stdout",
     "output_type": "stream",
     "text": [
      "<class 'pandas.core.frame.DataFrame'>\n",
      "RangeIndex: 346733 entries, 0 to 346732\n",
      "Data columns (total 8 columns):\n",
      "Port Name    346733 non-null object\n",
      "State        346733 non-null object\n",
      "Port Code    346733 non-null int64\n",
      "Border       346733 non-null object\n",
      "Date         346733 non-null object\n",
      "Measure      346733 non-null object\n",
      "Value        346733 non-null int64\n",
      "Location     346733 non-null object\n",
      "dtypes: int64(2), object(6)\n",
      "memory usage: 21.2+ MB\n"
     ]
    }
   ],
   "source": [
    "border_crossing.info()"
   ]
  },
  {
   "cell_type": "code",
   "execution_count": 6,
   "metadata": {},
   "outputs": [
    {
     "name": "stdout",
     "output_type": "stream",
     "text": [
      "01/01/1996 12:00:00 AM 12/01/2018 12:00:00 AM\n"
     ]
    }
   ],
   "source": [
    "print(border_crossing.Date.min(),border_crossing.Date.max())"
   ]
  },
  {
   "cell_type": "markdown",
   "metadata": {},
   "source": [
    "    Port Code and Value are numbers (integer). \n",
    "    All the other columns are string.   \n",
    "    However, location should be numbers (float) as well. Location contains latitude and longitude.\n",
    "    There are no missing values in this dataset. \n",
    "    This dataset contains 8 columns and 346733 rows.\n",
    "    The dataset date range is from 1996 January - 2018 December"
   ]
  },
  {
   "cell_type": "code",
   "execution_count": 7,
   "metadata": {},
   "outputs": [],
   "source": [
    "#Extracting Latitude and Longitude\n",
    "import re"
   ]
  },
  {
   "cell_type": "code",
   "execution_count": 8,
   "metadata": {},
   "outputs": [],
   "source": [
    "def find_lat(loc):\n",
    "    coords = re.findall(\"\\(.+\\)\", loc)\n",
    "    lat = coords[0].split(\" \")[1].replace(\")\", \"\")\n",
    "    return lat\n",
    "def find_lon(loc):\n",
    "    coords = re.findall(\"\\(.+\\)\", loc)\n",
    "    lon = coords[0].split(\" \")[0].replace(\"(\", \"\").strip()\n",
    "    return lon"
   ]
  },
  {
   "cell_type": "code",
   "execution_count": 9,
   "metadata": {},
   "outputs": [],
   "source": [
    "border_crossing[\"Latitude\"] = border_crossing[\"Location\"].apply(find_lat)\n",
    "border_crossing[\"Longitude\"] = border_crossing[\"Location\"].apply(find_lon)"
   ]
  },
  {
   "cell_type": "code",
   "execution_count": 10,
   "metadata": {},
   "outputs": [
    {
     "data": {
      "text/html": [
       "<div>\n",
       "<style scoped>\n",
       "    .dataframe tbody tr th:only-of-type {\n",
       "        vertical-align: middle;\n",
       "    }\n",
       "\n",
       "    .dataframe tbody tr th {\n",
       "        vertical-align: top;\n",
       "    }\n",
       "\n",
       "    .dataframe thead th {\n",
       "        text-align: right;\n",
       "    }\n",
       "</style>\n",
       "<table border=\"1\" class=\"dataframe\">\n",
       "  <thead>\n",
       "    <tr style=\"text-align: right;\">\n",
       "      <th></th>\n",
       "      <th>Port Name</th>\n",
       "      <th>State</th>\n",
       "      <th>Port Code</th>\n",
       "      <th>Border</th>\n",
       "      <th>Date</th>\n",
       "      <th>Measure</th>\n",
       "      <th>Value</th>\n",
       "      <th>Location</th>\n",
       "      <th>Latitude</th>\n",
       "      <th>Longitude</th>\n",
       "    </tr>\n",
       "  </thead>\n",
       "  <tbody>\n",
       "    <tr>\n",
       "      <td>0</td>\n",
       "      <td>Calexico East</td>\n",
       "      <td>California</td>\n",
       "      <td>2507</td>\n",
       "      <td>US-Mexico Border</td>\n",
       "      <td>03/01/2019 12:00:00 AM</td>\n",
       "      <td>Trucks</td>\n",
       "      <td>34447</td>\n",
       "      <td>POINT (-115.48433000000001 32.67524)</td>\n",
       "      <td>32.67524</td>\n",
       "      <td>-115.48433000000001</td>\n",
       "    </tr>\n",
       "    <tr>\n",
       "      <td>1</td>\n",
       "      <td>Van Buren</td>\n",
       "      <td>Maine</td>\n",
       "      <td>108</td>\n",
       "      <td>US-Canada Border</td>\n",
       "      <td>03/01/2019 12:00:00 AM</td>\n",
       "      <td>Rail Containers Full</td>\n",
       "      <td>428</td>\n",
       "      <td>POINT (-67.94271 47.16207)</td>\n",
       "      <td>47.16207</td>\n",
       "      <td>-67.94271</td>\n",
       "    </tr>\n",
       "    <tr>\n",
       "      <td>2</td>\n",
       "      <td>Otay Mesa</td>\n",
       "      <td>California</td>\n",
       "      <td>2506</td>\n",
       "      <td>US-Mexico Border</td>\n",
       "      <td>03/01/2019 12:00:00 AM</td>\n",
       "      <td>Trucks</td>\n",
       "      <td>81217</td>\n",
       "      <td>POINT (-117.05333 32.57333)</td>\n",
       "      <td>32.57333</td>\n",
       "      <td>-117.05333</td>\n",
       "    </tr>\n",
       "    <tr>\n",
       "      <td>3</td>\n",
       "      <td>Nogales</td>\n",
       "      <td>Arizona</td>\n",
       "      <td>2604</td>\n",
       "      <td>US-Mexico Border</td>\n",
       "      <td>03/01/2019 12:00:00 AM</td>\n",
       "      <td>Trains</td>\n",
       "      <td>62</td>\n",
       "      <td>POINT (-110.93361 31.340279999999996)</td>\n",
       "      <td>31.340279999999996</td>\n",
       "      <td>-110.93361</td>\n",
       "    </tr>\n",
       "    <tr>\n",
       "      <td>4</td>\n",
       "      <td>Trout River</td>\n",
       "      <td>New York</td>\n",
       "      <td>715</td>\n",
       "      <td>US-Canada Border</td>\n",
       "      <td>03/01/2019 12:00:00 AM</td>\n",
       "      <td>Personal Vehicle Passengers</td>\n",
       "      <td>16377</td>\n",
       "      <td>POINT (-73.44253 44.990010000000005)</td>\n",
       "      <td>44.990010000000005</td>\n",
       "      <td>-73.44253</td>\n",
       "    </tr>\n",
       "  </tbody>\n",
       "</table>\n",
       "</div>"
      ],
      "text/plain": [
       "       Port Name       State  Port Code            Border  \\\n",
       "0  Calexico East  California       2507  US-Mexico Border   \n",
       "1      Van Buren       Maine        108  US-Canada Border   \n",
       "2      Otay Mesa  California       2506  US-Mexico Border   \n",
       "3        Nogales     Arizona       2604  US-Mexico Border   \n",
       "4    Trout River    New York        715  US-Canada Border   \n",
       "\n",
       "                     Date                      Measure  Value  \\\n",
       "0  03/01/2019 12:00:00 AM                       Trucks  34447   \n",
       "1  03/01/2019 12:00:00 AM         Rail Containers Full    428   \n",
       "2  03/01/2019 12:00:00 AM                       Trucks  81217   \n",
       "3  03/01/2019 12:00:00 AM                       Trains     62   \n",
       "4  03/01/2019 12:00:00 AM  Personal Vehicle Passengers  16377   \n",
       "\n",
       "                                Location            Latitude  \\\n",
       "0   POINT (-115.48433000000001 32.67524)            32.67524   \n",
       "1             POINT (-67.94271 47.16207)            47.16207   \n",
       "2            POINT (-117.05333 32.57333)            32.57333   \n",
       "3  POINT (-110.93361 31.340279999999996)  31.340279999999996   \n",
       "4   POINT (-73.44253 44.990010000000005)  44.990010000000005   \n",
       "\n",
       "             Longitude  \n",
       "0  -115.48433000000001  \n",
       "1            -67.94271  \n",
       "2           -117.05333  \n",
       "3           -110.93361  \n",
       "4            -73.44253  "
      ]
     },
     "execution_count": 10,
     "metadata": {},
     "output_type": "execute_result"
    }
   ],
   "source": [
    "border_crossing.head()"
   ]
  },
  {
   "cell_type": "code",
   "execution_count": 11,
   "metadata": {},
   "outputs": [
    {
     "name": "stdout",
     "output_type": "stream",
     "text": [
      "<class 'pandas.core.frame.DataFrame'>\n",
      "RangeIndex: 346733 entries, 0 to 346732\n",
      "Data columns (total 2 columns):\n",
      "Latitude     346733 non-null object\n",
      "Longitude    346733 non-null object\n",
      "dtypes: object(2)\n",
      "memory usage: 5.3+ MB\n"
     ]
    }
   ],
   "source": [
    "border_crossing[[\"Latitude\",\"Longitude\"]].info()"
   ]
  },
  {
   "cell_type": "code",
   "execution_count": 12,
   "metadata": {},
   "outputs": [
    {
     "name": "stdout",
     "output_type": "stream",
     "text": [
      "<class 'pandas.core.frame.DataFrame'>\n",
      "RangeIndex: 346733 entries, 0 to 346732\n",
      "Data columns (total 2 columns):\n",
      "Latitude     346733 non-null float64\n",
      "Longitude    346733 non-null float64\n",
      "dtypes: float64(2)\n",
      "memory usage: 5.3 MB\n"
     ]
    }
   ],
   "source": [
    "#change to float\n",
    "border_crossing[[\"Latitude\",\"Longitude\"]].astype(float).info()"
   ]
  },
  {
   "cell_type": "markdown",
   "metadata": {},
   "source": [
    "Latitude and longitude are now in separate columns in float. We will look at the location of the cross border stations later in the dataset."
   ]
  },
  {
   "cell_type": "markdown",
   "metadata": {},
   "source": [
    "# 1) How many people cross to United States from Canada on road?\n",
    "To find this answer, we have to find the correct row values that have the information of people travelling down to US from Canada. \n",
    "      BTS has provided us with definitions of row values that counted the number of people on road:\n",
    "          - Pedestrian\n",
    "          - Personal Vehicle Passengers\n",
    "          - Bus Passengers"
   ]
  },
  {
   "cell_type": "code",
   "execution_count": 13,
   "metadata": {},
   "outputs": [
    {
     "name": "stdout",
     "output_type": "stream",
     "text": [
      "['US-Mexico Border' 'US-Canada Border']\n",
      "Eastport                  5541\n",
      "Sweetgrass                3348\n",
      "El Paso                   3348\n",
      "Buffalo-Niagara Falls     3348\n",
      "Champlain-Rouses Point    3348\n",
      "Name: Port Name, dtype: int64\n"
     ]
    }
   ],
   "source": [
    "#Exploring data\n",
    "print(border_crossing.Border.unique())\n",
    "#print(border_crossing[\"Port Name\"].unique)\n",
    "print(border_crossing[\"Port Name\"].value_counts().head())"
   ]
  },
  {
   "cell_type": "markdown",
   "metadata": {},
   "source": [
    "### There are two border entrees to Unites Staes on Road: via Canada or via Mexico\n",
    "In this project, I am interest in Canada entry only. Thus, Canada entry values are filtered:"
   ]
  },
  {
   "cell_type": "code",
   "execution_count": 14,
   "metadata": {},
   "outputs": [],
   "source": [
    "US_Canada_Border = border_crossing[border_crossing[\"Border\"] == \"US-Canada Border\"]"
   ]
  },
  {
   "cell_type": "code",
   "execution_count": 15,
   "metadata": {},
   "outputs": [
    {
     "name": "stdout",
     "output_type": "stream",
     "text": [
      "Data Range from 01/01/1996 12:00:00 AM to 12/01/2018 12:00:00 AM\n"
     ]
    }
   ],
   "source": [
    "print('Data Range from ' + US_Canada_Border.Date.min() + ' to '+ US_Canada_Border.Date.max())"
   ]
  },
  {
   "cell_type": "markdown",
   "metadata": {},
   "source": [
    "### Find the total number of passengers entered US on road from Canada"
   ]
  },
  {
   "cell_type": "code",
   "execution_count": 16,
   "metadata": {},
   "outputs": [
    {
     "name": "stdout",
     "output_type": "stream",
     "text": [
      "          State      Value\n",
      "0        Alaska    9271121\n",
      "1         Idaho   10998009\n",
      "2       Montana   32307915\n",
      "3  North Dakota   37211197\n",
      "4     Minnesota   56623748\n",
      "5       Vermont   67990669\n",
      "6         Maine  138089224\n",
      "7    Washington  317136970\n",
      "8      Michigan  427465088\n",
      "9      New York  528860938\n"
     ]
    },
    {
     "data": {
      "text/plain": [
       "9    1625954879\n",
       "Name: Value, dtype: object"
      ]
     },
     "execution_count": 16,
     "metadata": {},
     "output_type": "execute_result"
    }
   ],
   "source": [
    "#Exclude other types of entries to states except for via road entry\n",
    "road = US_Canada_Border[US_Canada_Border.Measure.isin(['Pedestrians','Bus Passengers','Personal Vehicle Passengers'])]\n",
    "print(road.groupby('State')['Value'].sum().sort_values().reset_index())\n",
    "road.groupby('State')['Value'].sum().sort_values().reset_index().cumsum().tail(1).Value"
   ]
  },
  {
   "cell_type": "code",
   "execution_count": 17,
   "metadata": {},
   "outputs": [
    {
     "data": {
      "text/plain": [
       "array(['Rail Containers Full', 'Personal Vehicle Passengers', 'Trucks',\n",
       "       'Bus Passengers', 'Rail Containers Empty', 'Personal Vehicles',\n",
       "       'Buses', 'Truck Containers Full', 'Pedestrians',\n",
       "       'Train Passengers', 'Trains', 'Truck Containers Empty'],\n",
       "      dtype=object)"
      ]
     },
     "execution_count": 17,
     "metadata": {},
     "output_type": "execute_result"
    }
   ],
   "source": [
    "US_Canada_Border.Measure.unique()"
   ]
  },
  {
   "cell_type": "code",
   "execution_count": 18,
   "metadata": {},
   "outputs": [],
   "source": [
    "PV = US_Canada_Border[US_Canada_Border['Measure'].isin(['Personal Vehicles'])]['Value'].sum()"
   ]
  },
  {
   "cell_type": "code",
   "execution_count": 19,
   "metadata": {},
   "outputs": [],
   "source": [
    "PVP = US_Canada_Border[US_Canada_Border['Measure'].isin(['Personal Vehicle Passengers'])]['Value'].sum()"
   ]
  },
  {
   "cell_type": "code",
   "execution_count": 20,
   "metadata": {},
   "outputs": [
    {
     "name": "stdout",
     "output_type": "stream",
     "text": [
      "2.0904430066072157\n"
     ]
    }
   ],
   "source": [
    "PVratioPVP = PVP/PV\n",
    "print(PVratioPVP)"
   ]
  },
  {
   "cell_type": "code",
   "execution_count": 21,
   "metadata": {},
   "outputs": [
    {
     "name": "stdout",
     "output_type": "stream",
     "text": [
      "24.026112833117782\n"
     ]
    }
   ],
   "source": [
    "Buses = US_Canada_Border[US_Canada_Border['Measure'].isin(['Buses'])]['Value'].sum()\n",
    "Bus_Pass = US_Canada_Border[US_Canada_Border['Measure'].isin(['Bus Passengers'])]['Value'].sum()\n",
    "Busratio = Bus_Pass/Buses\n",
    "print(Busratio)"
   ]
  },
  {
   "cell_type": "code",
   "execution_count": 22,
   "metadata": {},
   "outputs": [],
   "source": [
    "US_Canada_Border['Date'] = pd.to_datetime(US_Canada_Border['Date'])\n",
    "US_Canada_Border['Year'] = US_Canada_Border.Date.dt.year\n",
    "\n",
    "road['Date'] = pd.to_datetime(road['Date'])\n",
    "road['Year'] = road.Date.dt.year"
   ]
  },
  {
   "cell_type": "code",
   "execution_count": 23,
   "metadata": {},
   "outputs": [
    {
     "data": {
      "text/plain": [
       "<matplotlib.axes._subplots.AxesSubplot at 0x17f8f1845c8>"
      ]
     },
     "execution_count": 23,
     "metadata": {},
     "output_type": "execute_result"
    },
    {
     "data": {
      "image/png": "[encoded data removed]",
      "text/plain": [
       "<Figure size 432x288 with 1 Axes>"
      ]
     },
     "metadata": {
      "needs_background": "light"
     },
     "output_type": "display_data"
    }
   ],
   "source": [
    "road.groupby('Year')['Value'].sum().reset_index().plot(x='Year',y='Value')"
   ]
  },
  {
   "cell_type": "markdown",
   "metadata": {},
   "source": [
    "1) How many people cross to United States from Canada on road?\n",
    "    \n",
    "There are total of 1625954879 people who travelled between 1996 January - 2018 December.   \n",
    "We see a trend that passengers to US are decreasing over the years.  \n",
    "In 2019, the data is collected until March so we see a line graph falling dramatically.\n",
    "    \n",
    "    In average:\n",
    "        2.1 passengers per vehicle travlled to US between 1996 - 2018.  \n",
    "        24 passengers per bus\n",
    "    "
   ]
  },
  {
   "cell_type": "markdown",
   "metadata": {},
   "source": [
    "# 2) Which cities from Canada travel down the most on road?"
   ]
  },
  {
   "cell_type": "code",
   "execution_count": 24,
   "metadata": {},
   "outputs": [
    {
     "data": {
      "text/html": [
       "<div>\n",
       "<style scoped>\n",
       "    .dataframe tbody tr th:only-of-type {\n",
       "        vertical-align: middle;\n",
       "    }\n",
       "\n",
       "    .dataframe tbody tr th {\n",
       "        vertical-align: top;\n",
       "    }\n",
       "\n",
       "    .dataframe thead th {\n",
       "        text-align: right;\n",
       "    }\n",
       "</style>\n",
       "<table border=\"1\" class=\"dataframe\">\n",
       "  <thead>\n",
       "    <tr style=\"text-align: right;\">\n",
       "      <th></th>\n",
       "      <th>State</th>\n",
       "      <th>Value</th>\n",
       "    </tr>\n",
       "  </thead>\n",
       "  <tbody>\n",
       "    <tr>\n",
       "      <td>0</td>\n",
       "      <td>New York</td>\n",
       "      <td>827170661</td>\n",
       "    </tr>\n",
       "    <tr>\n",
       "      <td>1</td>\n",
       "      <td>Michigan</td>\n",
       "      <td>753167571</td>\n",
       "    </tr>\n",
       "    <tr>\n",
       "      <td>2</td>\n",
       "      <td>Washington</td>\n",
       "      <td>501550846</td>\n",
       "    </tr>\n",
       "    <tr>\n",
       "      <td>3</td>\n",
       "      <td>Maine</td>\n",
       "      <td>231249782</td>\n",
       "    </tr>\n",
       "    <tr>\n",
       "      <td>4</td>\n",
       "      <td>Vermont</td>\n",
       "      <td>114257813</td>\n",
       "    </tr>\n",
       "    <tr>\n",
       "      <td>5</td>\n",
       "      <td>Minnesota</td>\n",
       "      <td>95764039</td>\n",
       "    </tr>\n",
       "    <tr>\n",
       "      <td>6</td>\n",
       "      <td>North Dakota</td>\n",
       "      <td>75722499</td>\n",
       "    </tr>\n",
       "    <tr>\n",
       "      <td>7</td>\n",
       "      <td>Montana</td>\n",
       "      <td>54160434</td>\n",
       "    </tr>\n",
       "    <tr>\n",
       "      <td>8</td>\n",
       "      <td>Idaho</td>\n",
       "      <td>20998428</td>\n",
       "    </tr>\n",
       "    <tr>\n",
       "      <td>9</td>\n",
       "      <td>Alaska</td>\n",
       "      <td>13920348</td>\n",
       "    </tr>\n",
       "    <tr>\n",
       "      <td>10</td>\n",
       "      <td>Ohio</td>\n",
       "      <td>373</td>\n",
       "    </tr>\n",
       "  </tbody>\n",
       "</table>\n",
       "</div>"
      ],
      "text/plain": [
       "           State      Value\n",
       "0       New York  827170661\n",
       "1       Michigan  753167571\n",
       "2     Washington  501550846\n",
       "3          Maine  231249782\n",
       "4        Vermont  114257813\n",
       "5      Minnesota   95764039\n",
       "6   North Dakota   75722499\n",
       "7        Montana   54160434\n",
       "8          Idaho   20998428\n",
       "9         Alaska   13920348\n",
       "10          Ohio        373"
      ]
     },
     "execution_count": 24,
     "metadata": {},
     "output_type": "execute_result"
    }
   ],
   "source": [
    "US_Canada_Border.groupby('State')['Value'].sum().sort_values(ascending=False).reset_index()"
   ]
  },
  {
   "cell_type": "code",
   "execution_count": 25,
   "metadata": {},
   "outputs": [
    {
     "data": {
      "text/plain": [
       "<matplotlib.axes._subplots.AxesSubplot at 0x17f900717c8>"
      ]
     },
     "execution_count": 25,
     "metadata": {},
     "output_type": "execute_result"
    },
    {
     "data": {
      "image/png": "[encoded data removed]",
      "text/plain": [
       "<Figure size 432x288 with 1 Axes>"
      ]
     },
     "metadata": {
      "needs_background": "light"
     },
     "output_type": "display_data"
    }
   ],
   "source": [
    "road.groupby('State')['Value'].sum().sort_values().reset_index().plot.bar('State','Value')"
   ]
  },
  {
   "cell_type": "markdown",
   "metadata": {},
   "source": [
    "As we see in the bar graph, three states stand out for number of entrees to United States: New York, Michigan, and Washington. These three states are located under the most affluent provinces in Canada: Vancouver, Toronto, and Montreal. We will look closely to these three states.  \n",
    "\n",
    "Toronto, Montreal and Vancouver provinces are where people travel down the most."
   ]
  },
  {
   "cell_type": "markdown",
   "metadata": {},
   "source": [
    "# 3) What is the percentage of Vancouver within Canada travelling down to US on road?"
   ]
  },
  {
   "cell_type": "code",
   "execution_count": 26,
   "metadata": {},
   "outputs": [
    {
     "data": {
      "text/plain": [
       "State\n",
       "New York        32.526176\n",
       "Michigan        26.290095\n",
       "Washington      19.504660\n",
       "Maine            8.492808\n",
       "Vermont          4.181584\n",
       "Minnesota        3.482492\n",
       "North Dakota     2.288575\n",
       "Montana          1.987012\n",
       "Idaho            0.676403\n",
       "Alaska           0.570195\n",
       "Name: Value, dtype: float64"
      ]
     },
     "execution_count": 26,
     "metadata": {},
     "output_type": "execute_result"
    },
    {
     "data": {
      "image/png": "[encoded data removed]",
      "text/plain": [
       "<Figure size 432x288 with 1 Axes>"
      ]
     },
     "metadata": {
      "needs_background": "light"
     },
     "output_type": "display_data"
    }
   ],
   "source": [
    "grouped = road.groupby(\"State\")\n",
    "Enter = grouped[\"Value\"].agg('sum')\n",
    "Enter.sort_values(ascending=False).plot.bar()\n",
    "\n",
    "def find_percentage(df):\n",
    "    return df[\"Value\"].agg(\"sum\")/road.Value.sum()*100\n",
    "find_percentage(grouped).sort_values(ascending=False)"
   ]
  },
  {
   "cell_type": "markdown",
   "metadata": {},
   "source": [
    "3) What are the percentage of people from Vancouver side travelling down to US from Canada on road?\n",
    "    \n",
    "    There are about 19.5% people travel to US from Canada on road between January 1996 - December 2018 from Vancouver"
   ]
  },
  {
   "cell_type": "markdown",
   "metadata": {},
   "source": [
    "# 4) Which border stations did passengers use mostly from Vancouver?"
   ]
  },
  {
   "cell_type": "code",
   "execution_count": 27,
   "metadata": {},
   "outputs": [
    {
     "data": {
      "text/html": [
       "<div>\n",
       "<style scoped>\n",
       "    .dataframe tbody tr th:only-of-type {\n",
       "        vertical-align: middle;\n",
       "    }\n",
       "\n",
       "    .dataframe tbody tr th {\n",
       "        vertical-align: top;\n",
       "    }\n",
       "\n",
       "    .dataframe thead th {\n",
       "        text-align: right;\n",
       "    }\n",
       "</style>\n",
       "<table border=\"1\" class=\"dataframe\">\n",
       "  <thead>\n",
       "    <tr style=\"text-align: right;\">\n",
       "      <th></th>\n",
       "      <th>Port Name</th>\n",
       "      <th>State</th>\n",
       "      <th>Port Code</th>\n",
       "      <th>Border</th>\n",
       "      <th>Date</th>\n",
       "      <th>Measure</th>\n",
       "      <th>Value</th>\n",
       "      <th>Location</th>\n",
       "      <th>Latitude</th>\n",
       "      <th>Longitude</th>\n",
       "      <th>Year</th>\n",
       "    </tr>\n",
       "  </thead>\n",
       "  <tbody>\n",
       "    <tr>\n",
       "      <td>242120</td>\n",
       "      <td>Anacortes</td>\n",
       "      <td>Washington</td>\n",
       "      <td>3010</td>\n",
       "      <td>US-Canada Border</td>\n",
       "      <td>2003-01-01</td>\n",
       "      <td>Pedestrians</td>\n",
       "      <td>0</td>\n",
       "      <td>POINT (-122.61000000000001 48.51)</td>\n",
       "      <td>48.51</td>\n",
       "      <td>-122.61000000000001</td>\n",
       "      <td>2003</td>\n",
       "    </tr>\n",
       "    <tr>\n",
       "      <td>242480</td>\n",
       "      <td>Anacortes</td>\n",
       "      <td>Washington</td>\n",
       "      <td>3010</td>\n",
       "      <td>US-Canada Border</td>\n",
       "      <td>2003-01-01</td>\n",
       "      <td>Personal Vehicle Passengers</td>\n",
       "      <td>0</td>\n",
       "      <td>POINT (-122.61000000000001 48.51)</td>\n",
       "      <td>48.51</td>\n",
       "      <td>-122.61000000000001</td>\n",
       "      <td>2003</td>\n",
       "    </tr>\n",
       "    <tr>\n",
       "      <td>242727</td>\n",
       "      <td>Anacortes</td>\n",
       "      <td>Washington</td>\n",
       "      <td>3010</td>\n",
       "      <td>US-Canada Border</td>\n",
       "      <td>2003-01-01</td>\n",
       "      <td>Bus Passengers</td>\n",
       "      <td>0</td>\n",
       "      <td>POINT (-122.61000000000001 48.51)</td>\n",
       "      <td>48.51</td>\n",
       "      <td>-122.61000000000001</td>\n",
       "      <td>2003</td>\n",
       "    </tr>\n",
       "    <tr>\n",
       "      <td>237799</td>\n",
       "      <td>Anacortes</td>\n",
       "      <td>Washington</td>\n",
       "      <td>3010</td>\n",
       "      <td>US-Canada Border</td>\n",
       "      <td>2003-04-01</td>\n",
       "      <td>Bus Passengers</td>\n",
       "      <td>0</td>\n",
       "      <td>POINT (-122.61000000000001 48.51)</td>\n",
       "      <td>48.51</td>\n",
       "      <td>-122.61000000000001</td>\n",
       "      <td>2003</td>\n",
       "    </tr>\n",
       "    <tr>\n",
       "      <td>237847</td>\n",
       "      <td>Anacortes</td>\n",
       "      <td>Washington</td>\n",
       "      <td>3010</td>\n",
       "      <td>US-Canada Border</td>\n",
       "      <td>2003-04-01</td>\n",
       "      <td>Pedestrians</td>\n",
       "      <td>0</td>\n",
       "      <td>POINT (-122.61000000000001 48.51)</td>\n",
       "      <td>48.51</td>\n",
       "      <td>-122.61000000000001</td>\n",
       "      <td>2003</td>\n",
       "    </tr>\n",
       "  </tbody>\n",
       "</table>\n",
       "</div>"
      ],
      "text/plain": [
       "        Port Name       State  Port Code            Border       Date  \\\n",
       "242120  Anacortes  Washington       3010  US-Canada Border 2003-01-01   \n",
       "242480  Anacortes  Washington       3010  US-Canada Border 2003-01-01   \n",
       "242727  Anacortes  Washington       3010  US-Canada Border 2003-01-01   \n",
       "237799  Anacortes  Washington       3010  US-Canada Border 2003-04-01   \n",
       "237847  Anacortes  Washington       3010  US-Canada Border 2003-04-01   \n",
       "\n",
       "                            Measure  Value                           Location  \\\n",
       "242120                  Pedestrians      0  POINT (-122.61000000000001 48.51)   \n",
       "242480  Personal Vehicle Passengers      0  POINT (-122.61000000000001 48.51)   \n",
       "242727               Bus Passengers      0  POINT (-122.61000000000001 48.51)   \n",
       "237799               Bus Passengers      0  POINT (-122.61000000000001 48.51)   \n",
       "237847                  Pedestrians      0  POINT (-122.61000000000001 48.51)   \n",
       "\n",
       "       Latitude            Longitude  Year  \n",
       "242120    48.51  -122.61000000000001  2003  \n",
       "242480    48.51  -122.61000000000001  2003  \n",
       "242727    48.51  -122.61000000000001  2003  \n",
       "237799    48.51  -122.61000000000001  2003  \n",
       "237847    48.51  -122.61000000000001  2003  "
      ]
     },
     "execution_count": 27,
     "metadata": {},
     "output_type": "execute_result"
    }
   ],
   "source": [
    "# First find all the borders that are connected to Washington.\n",
    "US_Canada_Border_Washington = road[road[\"State\"] == \"Washington\"]\n",
    "US_Canada_Border_Washington.sort_values(by=[\"Port Name\",\"Date\"]).head()"
   ]
  },
  {
   "cell_type": "code",
   "execution_count": 28,
   "metadata": {},
   "outputs": [
    {
     "name": "stdout",
     "output_type": "stream",
     "text": [
      "Lynden border data collected from 1996-01-01 00:00:00 to 2019-03-01 00:00:00\n",
      "Sumas border data collected from 1996-01-01 00:00:00 to 2019-03-01 00:00:00\n",
      "Nighthawk border data collected from 1996-01-01 00:00:00 to 2019-03-01 00:00:00\n",
      "Oroville border data collected from 1996-01-01 00:00:00 to 2019-03-01 00:00:00\n",
      "Port Angeles border data collected from 2003-01-01 00:00:00 to 2019-03-01 00:00:00\n",
      "Frontier border data collected from 1996-01-01 00:00:00 to 2019-03-01 00:00:00\n",
      "Danville border data collected from 1996-01-01 00:00:00 to 2019-03-01 00:00:00\n",
      "Boundary border data collected from 1996-01-01 00:00:00 to 2019-03-01 00:00:00\n",
      "Anacortes border data collected from 2003-01-01 00:00:00 to 2019-03-01 00:00:00\n",
      "Point Roberts border data collected from 1996-01-01 00:00:00 to 2019-03-01 00:00:00\n",
      "Metaline Falls border data collected from 1996-01-01 00:00:00 to 2019-03-01 00:00:00\n",
      "Ferry border data collected from 1996-01-01 00:00:00 to 2019-03-01 00:00:00\n",
      "Laurier border data collected from 1996-01-01 00:00:00 to 2019-03-01 00:00:00\n",
      "Friday Harbor border data collected from 2004-01-01 00:00:00 to 2019-03-01 00:00:00\n",
      "Blaine border data collected from 1996-01-01 00:00:00 to 2019-03-01 00:00:00\n"
     ]
    }
   ],
   "source": [
    "# Find if all the date range are correlated with each other\n",
    "def date_info(state):\n",
    "    dates = US_Canada_Border_Washington[US_Canada_Border_Washington[\"Port Name\"] == state]\n",
    "    earliest = dates[\"Date\"].min()\n",
    "    latest = dates[\"Date\"].max()\n",
    "    print(\"{} border data collected from {} to {}\".format(state,earliest,latest))\n",
    "\n",
    "for state in US_Canada_Border_Washington[\"Port Name\"].unique():\n",
    "    date_info(state)"
   ]
  },
  {
   "cell_type": "markdown",
   "metadata": {},
   "source": [
    "Timeline:\n",
    "\n",
    "    Lynden, Oroville, Ferry, Metaline Falls, Blaine, Frontier, Laurier, Boundary, Sumas, Danville, Nighthawk, Point Roberts: 1996 - 2018\n",
    "    Port Angles, Anacortes : 2003 - 2018\n",
    "    Friday Harbor: 2004- 2017\n",
    "    \n",
    "None of this data has 2019 information"
   ]
  },
  {
   "cell_type": "code",
   "execution_count": 29,
   "metadata": {},
   "outputs": [
    {
     "data": {
      "text/plain": [
       "<matplotlib.axes._subplots.AxesSubplot at 0x17f901fb7c8>"
      ]
     },
     "execution_count": 29,
     "metadata": {},
     "output_type": "execute_result"
    },
    {
     "data": {
      "image/png": "[encoded data removed]",
      "text/plain": [
       "<Figure size 432x288 with 1 Axes>"
      ]
     },
     "metadata": {
      "needs_background": "light"
     },
     "output_type": "display_data"
    }
   ],
   "source": [
    "road.groupby('State').sum().reset_index().sort_values(by=('Value'),ascending=False).plot.bar(x='State',y='Value')"
   ]
  },
  {
   "cell_type": "markdown",
   "metadata": {},
   "source": [
    "We see in the above graph that Washinton is in rank 3 for entering passengers from Canada. Washington state is where its connected with the province Vancouver in Canada. We will focus in Washington state and investigate the number of people entering from Vancouver."
   ]
  },
  {
   "cell_type": "code",
   "execution_count": 30,
   "metadata": {},
   "outputs": [
    {
     "data": {
      "text/plain": [
       "<matplotlib.axes._subplots.AxesSubplot at 0x17f9424a688>"
      ]
     },
     "execution_count": 30,
     "metadata": {},
     "output_type": "execute_result"
    },
    {
     "data": {
      "image/png": "[encoded data removed]",
      "text/plain": [
       "<Figure size 432x288 with 1 Axes>"
      ]
     },
     "metadata": {
      "needs_background": "light"
     },
     "output_type": "display_data"
    }
   ],
   "source": [
    "# Find the ratio of cross borders travelling to Washinton states\n",
    "road_wash = road[road[\"State\"] == \"Washington\"]\n",
    "\n",
    "grouped2 = road_wash.groupby(\"Port Name\")\n",
    "Enter2 = grouped2[\"Value\"].agg('sum').sort_values(ascending=True)\n",
    "Enter2.plot.bar()"
   ]
  },
  {
   "cell_type": "markdown",
   "metadata": {},
   "source": [
    "We see that Blaine, Sumas, Point Robers, and Lynden are the border stations that are used to enter US from Canada.  \n",
    "Blaine border stations contributes outstandgly for passengers to travel down to Washington states, US."
   ]
  },
  {
   "cell_type": "code",
   "execution_count": 31,
   "metadata": {},
   "outputs": [],
   "source": [
    "def find_percentage(df):\n",
    "    return df[\"Value\"].agg(\"sum\")/road_wash.Value.sum()*100"
   ]
  },
  {
   "cell_type": "code",
   "execution_count": 32,
   "metadata": {},
   "outputs": [
    {
     "data": {
      "text/plain": [
       "Port Name\n",
       "Blaine            56.931092\n",
       "Sumas             13.463368\n",
       "Point Roberts     11.817665\n",
       "Lynden             9.493144\n",
       "Oroville           3.733073\n",
       "Laurier            0.747924\n",
       "Danville           0.724900\n",
       "Frontier           0.659420\n",
       "Port Angeles       0.655748\n",
       "Boundary           0.645781\n",
       "Metaline Falls     0.466590\n",
       "Anacortes          0.361822\n",
       "Ferry              0.147314\n",
       "Nighthawk          0.110994\n",
       "Friday Harbor      0.041166\n",
       "Name: Value, dtype: float64"
      ]
     },
     "execution_count": 32,
     "metadata": {},
     "output_type": "execute_result"
    }
   ],
   "source": [
    "find_percentage(grouped2).sort_values(ascending=False)"
   ]
  },
  {
   "cell_type": "code",
   "execution_count": 33,
   "metadata": {},
   "outputs": [
    {
     "data": {
      "text/html": [
       "<div>\n",
       "<style scoped>\n",
       "    .dataframe tbody tr th:only-of-type {\n",
       "        vertical-align: middle;\n",
       "    }\n",
       "\n",
       "    .dataframe tbody tr th {\n",
       "        vertical-align: top;\n",
       "    }\n",
       "\n",
       "    .dataframe thead th {\n",
       "        text-align: right;\n",
       "    }\n",
       "</style>\n",
       "<table border=\"1\" class=\"dataframe\">\n",
       "  <thead>\n",
       "    <tr style=\"text-align: right;\">\n",
       "      <th></th>\n",
       "      <th>Port Name</th>\n",
       "      <th>State</th>\n",
       "      <th>Port Code</th>\n",
       "      <th>Border</th>\n",
       "      <th>Date</th>\n",
       "      <th>Measure</th>\n",
       "      <th>Value</th>\n",
       "      <th>Location</th>\n",
       "      <th>Latitude</th>\n",
       "      <th>Longitude</th>\n",
       "      <th>Year</th>\n",
       "    </tr>\n",
       "  </thead>\n",
       "  <tbody>\n",
       "    <tr>\n",
       "      <td>17</td>\n",
       "      <td>Lynden</td>\n",
       "      <td>Washington</td>\n",
       "      <td>3023</td>\n",
       "      <td>US-Canada Border</td>\n",
       "      <td>2019-03-01</td>\n",
       "      <td>Pedestrians</td>\n",
       "      <td>79</td>\n",
       "      <td>POINT (-122.44316000000002 48.94802)</td>\n",
       "      <td>48.94802</td>\n",
       "      <td>-122.44316000000002</td>\n",
       "      <td>2019</td>\n",
       "    </tr>\n",
       "    <tr>\n",
       "      <td>122</td>\n",
       "      <td>Sumas</td>\n",
       "      <td>Washington</td>\n",
       "      <td>3009</td>\n",
       "      <td>US-Canada Border</td>\n",
       "      <td>2019-03-01</td>\n",
       "      <td>Personal Vehicle Passengers</td>\n",
       "      <td>128892</td>\n",
       "      <td>POINT (-122.26361 49.00028)</td>\n",
       "      <td>49.00028</td>\n",
       "      <td>-122.26361</td>\n",
       "      <td>2019</td>\n",
       "    </tr>\n",
       "    <tr>\n",
       "      <td>162</td>\n",
       "      <td>Nighthawk</td>\n",
       "      <td>Washington</td>\n",
       "      <td>3011</td>\n",
       "      <td>US-Canada Border</td>\n",
       "      <td>2019-03-01</td>\n",
       "      <td>Personal Vehicle Passengers</td>\n",
       "      <td>555</td>\n",
       "      <td>POINT (-119.63537999999998 48.82366)</td>\n",
       "      <td>48.82366</td>\n",
       "      <td>-119.63537999999998</td>\n",
       "      <td>2019</td>\n",
       "    </tr>\n",
       "    <tr>\n",
       "      <td>200</td>\n",
       "      <td>Oroville</td>\n",
       "      <td>Washington</td>\n",
       "      <td>3019</td>\n",
       "      <td>US-Canada Border</td>\n",
       "      <td>2019-03-01</td>\n",
       "      <td>Pedestrians</td>\n",
       "      <td>293</td>\n",
       "      <td>POINT (-119.43444 48.93917)</td>\n",
       "      <td>48.93917</td>\n",
       "      <td>-119.43444</td>\n",
       "      <td>2019</td>\n",
       "    </tr>\n",
       "    <tr>\n",
       "      <td>212</td>\n",
       "      <td>Port Angeles</td>\n",
       "      <td>Washington</td>\n",
       "      <td>3007</td>\n",
       "      <td>US-Canada Border</td>\n",
       "      <td>2019-03-01</td>\n",
       "      <td>Bus Passengers</td>\n",
       "      <td>3</td>\n",
       "      <td>POINT (-123.43280000000001 48.11365)</td>\n",
       "      <td>48.11365</td>\n",
       "      <td>-123.43280000000001</td>\n",
       "      <td>2019</td>\n",
       "    </tr>\n",
       "  </tbody>\n",
       "</table>\n",
       "</div>"
      ],
      "text/plain": [
       "        Port Name       State  Port Code            Border       Date  \\\n",
       "17         Lynden  Washington       3023  US-Canada Border 2019-03-01   \n",
       "122         Sumas  Washington       3009  US-Canada Border 2019-03-01   \n",
       "162     Nighthawk  Washington       3011  US-Canada Border 2019-03-01   \n",
       "200      Oroville  Washington       3019  US-Canada Border 2019-03-01   \n",
       "212  Port Angeles  Washington       3007  US-Canada Border 2019-03-01   \n",
       "\n",
       "                         Measure   Value  \\\n",
       "17                   Pedestrians      79   \n",
       "122  Personal Vehicle Passengers  128892   \n",
       "162  Personal Vehicle Passengers     555   \n",
       "200                  Pedestrians     293   \n",
       "212               Bus Passengers       3   \n",
       "\n",
       "                                 Location  Latitude            Longitude  Year  \n",
       "17   POINT (-122.44316000000002 48.94802)  48.94802  -122.44316000000002  2019  \n",
       "122           POINT (-122.26361 49.00028)  49.00028           -122.26361  2019  \n",
       "162  POINT (-119.63537999999998 48.82366)  48.82366  -119.63537999999998  2019  \n",
       "200           POINT (-119.43444 48.93917)  48.93917           -119.43444  2019  \n",
       "212  POINT (-123.43280000000001 48.11365)  48.11365  -123.43280000000001  2019  "
      ]
     },
     "execution_count": 33,
     "metadata": {},
     "output_type": "execute_result"
    }
   ],
   "source": [
    "road_wash.head()"
   ]
  },
  {
   "cell_type": "code",
   "execution_count": 34,
   "metadata": {},
   "outputs": [],
   "source": [
    "van_borders = road_wash.drop_duplicates(['Port Name'])\n",
    "location = van_borders[['Port Name','Latitude','Longitude']]"
   ]
  },
  {
   "cell_type": "code",
   "execution_count": 35,
   "metadata": {},
   "outputs": [],
   "source": [
    "geo_df = van_borders.copy()\n",
    "geo_df[['Latitude','Longitude']] = geo_df[['Latitude','Longitude']].astype('float')"
   ]
  },
  {
   "cell_type": "code",
   "execution_count": 36,
   "metadata": {},
   "outputs": [
    {
     "data": {
      "text/plain": [
       "Index(['Port Name', 'State', 'Port Code', 'Border', 'Date', 'Measure', 'Value',\n",
       "       'Location', 'Latitude', 'Longitude', 'Year'],\n",
       "      dtype='object')"
      ]
     },
     "execution_count": 36,
     "metadata": {},
     "output_type": "execute_result"
    }
   ],
   "source": [
    "geo_df.columns"
   ]
  },
  {
   "cell_type": "code",
   "execution_count": 37,
   "metadata": {},
   "outputs": [
    {
     "data": {
      "text/html": [
       "<div style=\"width:100%;\"><div style=\"position:relative;width:100%;height:0;padding-bottom:60%;\"><iframe src=\"data:text/html;charset=utf-8;base64,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\" style=\"position:absolute;width:100%;height:100%;left:0;top:0;border:none !important;\" allowfullscreen webkitallowfullscreen mozallowfullscreen></iframe></div></div>"
      ],
      "text/plain": [
       "<folium.folium.Map at 0x17f96c78488>"
      ]
     },
     "execution_count": 37,
     "metadata": {},
     "output_type": "execute_result"
    }
   ],
   "source": [
    "map = folium.Map(location=[geo_df['Latitude'].mean(), geo_df['Longitude'].mean()], zoom_start=7)\n",
    "\n",
    "for n in geo_df.index:\n",
    "    # This is what will be seen on the marker pop up box\n",
    "    popup_name = geo_df['Port Name'][n]\n",
    "    # Different color for three cities  \n",
    "    folium.map.Marker(\n",
    "        location = [geo_df.loc[n, 'Latitude'], geo_df.loc[n, 'Longitude']],\n",
    "        popup= folium.Popup(popup_name, parse_html=True),\n",
    "        icon=folium.Icon(color='blue'),\n",
    "     ).add_to(map)\n",
    "\n",
    "map"
   ]
  },
  {
   "cell_type": "markdown",
   "metadata": {},
   "source": [
    "<img src=\"vcrborder.jpg\"/>"
   ]
  },
  {
   "cell_type": "markdown",
   "metadata": {},
   "source": [
    "Four main border stations (91.71%) are used to travel down to Washington states from Vancouver, BC. They are Blaine, Lynden, Sumas, and Point Robers. Point Roberts is a territory of US that are surround by sea except on North, which is Canada. Thus, there are two options to travel to US mainland via ferry or via drive around to Canada and re-enter to states. In addition, there are Port Angeles, Friday Harbor and Anacortes Ferry border station that passengers enter via ferry. These three ferry bordor stations consider about 1.06% of passengers entering to US from Canada. Otherwise, rest of border stations are loacted near Alberta province, which Vancouver passengers won't likely to use."
   ]
  }
 ],
 "metadata": {
  "kernelspec": {
   "display_name": "Python 3",
   "language": "python",
   "name": "python3"
  },
  "language_info": {
   "codemirror_mode": {
    "name": "ipython",
    "version": 3
   },
   "file_extension": ".py",
   "mimetype": "text/x-python",
   "name": "python",
   "nbconvert_exporter": "python",
   "pygments_lexer": "ipython3",
   "version": "3.7.4"
  }
 },
 "nbformat": 4,
 "nbformat_minor": 4
}
